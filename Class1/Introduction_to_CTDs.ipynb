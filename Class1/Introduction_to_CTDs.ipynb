{
 "cells": [
  {
   "cell_type": "markdown",
   "metadata": {},
   "source": [
    "# KSA: Polar Observations and Modelling\n",
    "\n",
    "## Week X, Class 1 - Ship based in situ ocean observations\n",
    "\n",
    "This class we are going to learn how to use CTD observations. CTD stands for \"Conductivity Temperature Depth\" and refers to a collection of electronic instruments that are deployed from a ship, sampling a water column in depth space. A CTD consists of three different sensors:\n",
    " - A pressure sensor which measures the pressure of the water column above it. \n",
    " - A temperature sensor.\n",
    " - A conductivity sensor, which measures how water conduces electricity, from which we can calculate the salinity of water.\n",
    "\n",
    " The CTD is usually attached to a metal rosette, where we have also attached a number of Niskin bottles. These bottles can be closed at different depths to collect water, from which we can take samples to measure different variables. One of the most important samples is used to measure salinity directly in the lab to calibrate the salinity inferred by the conductivity sensor. But water can also be used to measure variables we don't have sensors for (such as iron or other trace metals).\n",
    "\n",
    " If you want to learn more about how these measurements are taken, checkout [link](link)!"
   ]
  },
  {
   "cell_type": "markdown",
   "metadata": {},
   "source": [
    "### Load libraries\n",
    "\n",
    "Python libraries are ready-to-use collections of code that make our life significantly easier. There are different libraries with different functionalities (e.g. numerical operations, plottting and visualisation). We need to load them in order to use them. \n",
    "\n",
    "The semantics to load libraries is usually:\n",
    "```\n",
    "import library as name_we_give_it\n",
    "```\n",
    "and so we can call functions from the library using the name. For example, the library `numpy` allows us to perform matrices operations, all sorts of algebra and mathematical operations. We can load it, and then calculate the square root of a number, or the sine of another:\n",
    "```\n",
    "import numpy as np\n",
    "np.sqrt(16)\n",
    "np.sine(90)\n",
    "```"
   ]
  },
  {
   "cell_type": "code",
   "execution_count": null,
   "metadata": {},
   "outputs": [],
   "source": [
    "import numpy as np"
   ]
  },
  {
   "cell_type": "code",
   "execution_count": null,
   "metadata": {},
   "outputs": [],
   "source": []
  }
 ],
 "metadata": {
  "kernelspec": {
   "display_name": "miso",
   "language": "python",
   "name": "python3"
  },
  "language_info": {
   "name": "python",
   "version": "3.9.18"
  }
 },
 "nbformat": 4,
 "nbformat_minor": 2
}
