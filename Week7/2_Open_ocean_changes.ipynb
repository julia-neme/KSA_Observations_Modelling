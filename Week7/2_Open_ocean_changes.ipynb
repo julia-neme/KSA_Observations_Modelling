{
 "cells": [
  {
   "cell_type": "markdown",
   "metadata": {},
   "source": [
    "# KSA206: Polar Observations and Modelling\n",
    "\n",
    "# Week 7 - Open ocean changes\n",
    "\n",
    "<div style=\"float: right; margin-right: 30px; margin-left: 30px; width: 50%; max-width: 500px;\">\n",
    "    <img src=\"images/sim_schematic_1.png\" width=\"900%\" />\n",
    "</div>\n",
    "\n",
    "We will start by looking at changes to the temperature, salinity and circulation of the open ocean region, away from the Antarctic margins. Remember the experimental setup that we are working with - look at the figure on the right. We will be working by comparing the last 5 years of the perturbation experiments to the last 5 years of the control simulation. In other words, the last bit of the experiments!\n",
    "\n",
    "We will use both experiments, and we will look at the anomalies with respect to control. This means we will calculate the difference between the perturbations and control, and this will tell us how much things have *changed*.\n",
    "\n",
    "Remember that the difference between both perturbation experiments is that in one the authors have added meltwater to represent the melt of the ice sheets. Therefore, the different changes that both perturbations are showing are an *estimate* of what meltwater's effect could be - assuming that there are none non-linear interactions. Feel free to think more about that last sentence!"
   ]
  },
  {
   "cell_type": "code",
   "execution_count": 1,
   "metadata": {},
   "outputs": [],
   "source": [
    "import cartopy.crs as ccrs\n",
    "import cartopy.feature as cft\n",
    "import cmocean as cm\n",
    "import glob\n",
    "import matplotlib.path as mpath\n",
    "import matplotlib.pyplot as plt\n",
    "import numpy as np\n",
    "import xarray as xr"
   ]
  },
  {
   "cell_type": "code",
   "execution_count": 2,
   "metadata": {},
   "outputs": [],
   "source": [
    "def stereographic_axis(ax):\n",
    "    \n",
    "    ax.set_extent([-180, 180, -80, -50], crs = ccrs.PlateCarree())\n",
    "    ax.add_feature(cft.NaturalEarthFeature('physical', 'land', '50m',\n",
    "                                            edgecolor='gainsboro',\n",
    "                                            facecolor='gainsboro'))\n",
    "    ax.coastlines(resolution = \"110m\")\n",
    "    # Map the plot boundaries to a circle\n",
    "    theta = np.linspace(0, 2 * np.pi, 100)\n",
    "    center, radius = [0.5, 0.5], 0.5\n",
    "    verts = np.vstack([np.sin(theta), np.cos(theta)]).T\n",
    "    circle = mpath.Path(verts * radius + center)\n",
    "    ax.set_boundary(circle, transform=ax.transAxes)\n",
    "\n",
    "    return ax"
   ]
  },
  {
   "cell_type": "markdown",
   "metadata": {},
   "source": [
    "## Load data\n",
    "\n",
    "Let's first load our experiment data and calculate the changes (which we will call anomalies) as explained in the introduction. We will use the following acronym for the experiments:\n",
    " - Thermal+wind+precipitation: twp\n",
    " - Thermal+wind+precipitation+meltwater: twpm"
   ]
  },
  {
   "cell_type": "code",
   "execution_count": 5,
   "metadata": {},
   "outputs": [],
   "source": [
    "# Get paths\n",
    "path_control = glob.glob('data/control*')\n",
    "path_twpm = glob.glob('data/mw_ssp585*')\n",
    "path_twp = glob.glob('data/ssp585*')"
   ]
  },
  {
   "cell_type": "code",
   "execution_count": 6,
   "metadata": {},
   "outputs": [],
   "source": [
    "# Open data\n",
    "control = xr.open_mfdataset(path_control)\n",
    "twpm = xr.open_mfdataset(path_twpm)\n",
    "twp = xr.open_mfdataset(path_twp)"
   ]
  },
  {
   "cell_type": "code",
   "execution_count": 8,
   "metadata": {},
   "outputs": [],
   "source": [
    "# Calculate anomalies\n",
    "twpm_anomalies = twpm - control\n",
    "twp_anomalies = twp - control"
   ]
  },
  {
   "cell_type": "markdown",
   "metadata": {},
   "source": [
    "## Surface changes\n",
    "\n",
    "Let's start by looking at temperature and salinity changes at the surface only. Let's do some anomalies maps with two panels"
   ]
  },
  {
   "cell_type": "code",
   "execution_count": null,
   "metadata": {},
   "outputs": [],
   "source": [
    "fig = plt.figure(figsize = (15, 8))\n",
    "axs = [fig.add_subplot(121, projection = ccrs.SouthPolarStereo()),\n",
    "       fig.add_subplot(122, projection = ccrs.SouthPolarStereo())]\n",
    "for ax in axs:\n",
    "    ax = stereographic_axis(ax)\n",
    "\n",
    "twp_anomalies['temp'].isel(st_ocean = 0).plot(ax = axs[0], vmin = -3, vmax = 3, cmap = 'RdBu_r', transform = ccrs.PlateCarree(),\n",
    "                                               cbar_kwargs = {'label':'Temp anomalies (deg K)', 'shrink':.5, 'orientation':'horizontal'})\n",
    "axs[0].set_title('thermal+wind+precip')\n",
    "\n",
    "twpm_anomalies['temp'].isel(st_ocean = 0).plot(ax = axs[1], vmin = -3, vmax = 3, cmap = 'RdBu_r', transform = ccrs.PlateCarree(),\n",
    "                                              cbar_kwargs = {'label':'Temp anomalies (deg K)', 'shrink':.5, 'orientation':'horizontal'})\n",
    "axs[1].set_title('thermal+wind+precip+meltwater');\n",
    "\n",
    "fig.suptitle('Surface temperature', fontsize = 16);\n",
    "plt.tight_layout();"
   ]
  },
  {
   "cell_type": "markdown",
   "metadata": {},
   "source": [
    "Notice how we have put in our colorbar the units in deg K. Remember that the model's temperature comes in Kelvins, but since we are looking at anomalies and the relationship between Kelvin and Celsius is linear, we don't need to convert ☺️ The anomalies in Celsius are the same!"
   ]
  },
  {
   "cell_type": "markdown",
   "metadata": {},
   "source": [
    "<h4 style=\"color: red;\">Question 1</h4>\n",
    "\n",
    "Both experiments are showing widespread warming over the entire Southern Ocean - but the experiment with meltwater shows less warming than the other one. Plot the difference between the anomalies of both experiments, which will be an estimate of just the meltwater's contribution. Discuss your findings."
   ]
  },
  {
   "cell_type": "markdown",
   "metadata": {},
   "source": [
    "*Answer here*"
   ]
  },
  {
   "cell_type": "markdown",
   "metadata": {},
   "source": [
    "Now let's look at surface salinities."
   ]
  },
  {
   "cell_type": "code",
   "execution_count": null,
   "metadata": {},
   "outputs": [],
   "source": [
    "fig = plt.figure(figsize = (15, 8))\n",
    "axs = [fig.add_subplot(121, projection = ccrs.SouthPolarStereo()),\n",
    "       fig.add_subplot(122, projection = ccrs.SouthPolarStereo())]\n",
    "for ax in axs:\n",
    "    ax = stereographic_axis(ax)\n",
    "\n",
    "twp_anomalies['salt'].isel(st_ocean = 0).plot(ax = axs[0], vmin = -1, vmax = 1, cmap = 'RdBu_r', transform = ccrs.PlateCarree(),\n",
    "                                                      cbar_kwargs = {'label':'Salt anomalies (PSU)', 'shrink':.5, 'orientation':'horizontal'})\n",
    "axs[0].set_title('thermal+wind+precip')\n",
    "\n",
    "twpm_anomalies['salt'].isel(st_ocean = 0).plot(ax = axs[1], vmin = -1, vmax = 1, cmap = 'RdBu_r', transform = ccrs.PlateCarree(),\n",
    "                                                    cbar_kwargs = {'label':'Salt anomalies (PSU)', 'shrink':.5, 'orientation':'horizontal'})\n",
    "axs[1].set_title('thermal+wind+precip+meltwater');\n",
    "\n",
    "fig.suptitle('Surface salinity', fontsize = 16);\n",
    "plt.tight_layout()"
   ]
  },
  {
   "cell_type": "markdown",
   "metadata": {},
   "source": [
    "<h4 style=\"color: red;\">Question 2</h4>\n",
    "\n",
    "Where do you see the most differences between these experiments? Do you find that reasonable?"
   ]
  },
  {
   "cell_type": "markdown",
   "metadata": {},
   "source": [
    "*Answer here*"
   ]
  },
  {
   "cell_type": "markdown",
   "metadata": {},
   "source": [
    "## Bottom changes\n",
    "\n",
    "Let's look now at changes at the bottom. We will use code we have written already for the notebook `2_Calculating_trends.ipynb` from Week 5! If you need, revisit that section of the notebook to remember why we are extracting the bottom values like this."
   ]
  },
  {
   "cell_type": "code",
   "execution_count": 13,
   "metadata": {},
   "outputs": [],
   "source": [
    "# Create a mask with zeros where we have nans (land and below the bottom) and 1s everywhere else\n",
    "mask = xr.where(np.isnan(control['temp']), 0, 1)\n",
    "# Sum cumulatively in the vertical\n",
    "mask = mask.cumsum('st_ocean')\n",
    "# Get the index for maxiumum value, which will be the last depth below the bottom\n",
    "bottom_level = mask.argmax('st_ocean')"
   ]
  },
  {
   "cell_type": "code",
   "execution_count": null,
   "metadata": {},
   "outputs": [],
   "source": [
    "# Quick plot to check - it should be very similar to the bathymetry\n",
    "bottom_level.plot();"
   ]
  },
  {
   "cell_type": "code",
   "execution_count": null,
   "metadata": {},
   "outputs": [],
   "source": [
    "fig = plt.figure(figsize = (15, 8))\n",
    "axs = [fig.add_subplot(121, projection = ccrs.SouthPolarStereo()),\n",
    "       fig.add_subplot(122, projection = ccrs.SouthPolarStereo())]\n",
    "for ax in axs:\n",
    "    ax = stereographic_axis(ax)\n",
    "\n",
    "# Note how we have to add .load() to bottom levels - without loading into memory, this will fail!\n",
    "twp_anomalies['temp'].isel(st_ocean = bottom_level.load()).plot(ax = axs[0], vmin = -1, vmax = 1, cmap = 'RdBu_r', transform = ccrs.PlateCarree(),\n",
    "                                                                 cbar_kwargs = {'label':'Temp anomalies (deg K)', 'shrink':.5, 'orientation':'horizontal'})\n",
    "axs[0].set_title('thermal+wind+precip')\n",
    "\n",
    "twpm_anomalies['temp'].isel(st_ocean = bottom_level.load()).plot(ax = axs[1], vmin = -1, vmax = 1, cmap = 'RdBu_r', transform = ccrs.PlateCarree(),\n",
    "                                                               cbar_kwargs = {'label':'Temp anomalies (deg K)', 'shrink':.5, 'orientation':'horizontal'})\n",
    "axs[1].set_title('thermal+wind+precip+meltwater');\n",
    "\n",
    "fig.suptitle('Bottom temperature', fontsize = 16);\n",
    "plt.tight_layout()"
   ]
  },
  {
   "cell_type": "markdown",
   "metadata": {},
   "source": [
    "Notice how there is a lot of warming west of the Antarctic Peninsula in the Amundsen Bellinghausen Sea in both experiments. This is one of the most vulnerable regions of the Antarctic margins, where we are currently observing ice sheet melt, and where we expect a lot of the future melt to happen. \n",
    "\n",
    "But there is also weak, but generalised warming almost everywhere at the bottom - to assess the significance of these changes (i.e. if statistically the perturbations are different than the control) would require a bit of extra work that we are not going to do in this course."
   ]
  },
  {
   "cell_type": "code",
   "execution_count": null,
   "metadata": {},
   "outputs": [],
   "source": [
    "fig = plt.figure(figsize = (15, 8))\n",
    "axs = [fig.add_subplot(121, projection = ccrs.SouthPolarStereo()),\n",
    "       fig.add_subplot(122, projection = ccrs.SouthPolarStereo())]\n",
    "for ax in axs:\n",
    "    ax = stereographic_axis(ax)\n",
    "\n",
    "twp_anomalies['salt'].isel(st_ocean = bottom_level.load()).plot(ax = axs[0], vmin = -.1, vmax = .1, cmap = 'RdBu_r', transform = ccrs.PlateCarree(),\n",
    "                                                                 cbar_kwargs = {'label':'Salt anomalies (PSU)', 'shrink':.5, 'orientation':'horizontal'})\n",
    "axs[0].set_title('thermal+wind+precip')\n",
    "\n",
    "twpm_anomalies['salt'].isel(st_ocean = bottom_level.load()).plot(ax = axs[1], vmin = -.1, vmax = .1, cmap = 'RdBu_r', transform = ccrs.PlateCarree(),\n",
    "                                                               cbar_kwargs = {'label':'Salt anomalies (PSU)', 'shrink':.5, 'orientation':'horizontal'})\n",
    "axs[1].set_title('thermal+wind+precip+meltwater');\n",
    "\n",
    "fig.suptitle('Bottom salinity', fontsize = 16);\n",
    "plt.tight_layout()"
   ]
  },
  {
   "cell_type": "markdown",
   "metadata": {},
   "source": [
    "## Circulation changes\n",
    "\n",
    "Let's use what the calculations we developed last week for the streamfunction and the Drake Passage transport to look at changes to the circulation in these experiments. \n",
    "\n",
    "Let's begin by calculating the barotropic streamfunction from the transport variable - `tx_trans_int_z`.\n",
    "\n",
    "This time we will use the actual fields, not the anomalies and we will plot the control streamfunction as reference. This is because anomalies of the streamfunction can be hard to interpret. While for temperature positive will mean warming and negative cooling everytime, the sign of the streamfuncion anomalies *depend on the sign of the control*. They can mean shifts in the position of a current as well - so just to be safe we will look at the actual fields."
   ]
  },
  {
   "cell_type": "code",
   "execution_count": 66,
   "metadata": {},
   "outputs": [],
   "source": [
    "psi_control = control['tx_trans_int_z'].cumsum('yt_ocean')/1035/1e6\n",
    "psi_th_w_precip = no_meltwater_changes['tx_trans_int_z'].cumsum('yt_ocean')/1035/1e6\n",
    "psi_everything = everything_changes['tx_trans_int_z'].cumsum('yt_ocean')/1035/1e6"
   ]
  },
  {
   "cell_type": "code",
   "execution_count": null,
   "metadata": {},
   "outputs": [],
   "source": [
    "fig = plt.figure(figsize = (18, 8))\n",
    "axs = [fig.add_subplot(131, projection = ccrs.SouthPolarStereo()),\n",
    "       fig.add_subplot(132, projection = ccrs.SouthPolarStereo()),\n",
    "       fig.add_subplot(133, projection = ccrs.SouthPolarStereo())]\n",
    "for ax in axs:\n",
    "    ax = stereographic_axis(ax)\n",
    "\n",
    "psi_control.plot.contourf(ax = axs[0], vmin = -40, vmax = 40, levels = 9, cmap = cm.cm.curl, transform = ccrs.PlateCarree(),\n",
    "                          cbar_kwargs = {'label':'$\\\\psi$ (Sv)', 'shrink':.7, 'orientation':'horizontal'})\n",
    "axs[0].set_title('Control')\n",
    "psi_th_w_precip.plot.contourf(ax = axs[1], vmin = -40, vmax = 40, levels = 9, cmap = cm.cm.curl, transform = ccrs.PlateCarree(),\n",
    "                          cbar_kwargs = {'label':'$\\\\psi$ (Sv)', 'shrink':.7, 'orientation':'horizontal'})\n",
    "axs[1].set_title('Thermal+wind+precip')\n",
    "psi_everything.plot.contourf(ax = axs[2], vmin = -40, vmax = 40, levels = 9, cmap = cm.cm.curl, transform = ccrs.PlateCarree(),\n",
    "                          cbar_kwargs = {'label':'$\\\\psi$ (Sv)', 'shrink':.7, 'orientation':'horizontal'})\n",
    "axs[2].set_title('Thermal+wind+precip+meltwater');"
   ]
  },
  {
   "cell_type": "markdown",
   "metadata": {},
   "source": [
    "<h4 style=\"color: red;\">Question 3</h4>\n",
    "\n",
    "What has happened with the circulation of the subpolar gyres? Why do you think that is?"
   ]
  },
  {
   "cell_type": "markdown",
   "metadata": {},
   "source": [
    "*Answer here*"
   ]
  },
  {
   "cell_type": "markdown",
   "metadata": {},
   "source": [
    "The plots above are great to look at the subpolar gyres, but not if we want to look at changes in the Antarctic Circumpolar Current. For that, let's zoom in the Drake Passage, and calculate it's transport using code from the `3_Transport_streamfunction.ipynb` notebook from Week 6. Revisit that notebook if you want to check where the code came from. "
   ]
  },
  {
   "cell_type": "code",
   "execution_count": null,
   "metadata": {},
   "outputs": [],
   "source": [
    "fig = plt.figure(figsize = (18, 8))\n",
    "axs = [fig.add_subplot(131, projection = ccrs.Mercator(central_longitude = -70)),\n",
    "       fig.add_subplot(132, projection = ccrs.Mercator(central_longitude = -70)),\n",
    "       fig.add_subplot(133, projection = ccrs.Mercator(central_longitude = -70))]\n",
    "for ax in axs:\n",
    "    ax.set_extent([-90, -50, -65, -50], crs = ccrs.PlateCarree())\n",
    "    ax.add_feature(cft.NaturalEarthFeature('physical', 'land', '50m',\n",
    "                                            edgecolor='gainsboro',\n",
    "                                            facecolor='gainsboro'))\n",
    "    ax.coastlines(resolution = \"50m\")\n",
    "    gl = ax.gridlines(draw_labels = True, linewidth = 0)\n",
    "    gl.xformatter = ccrs.cartopy.mpl.ticker.LongitudeFormatter()\n",
    "    gl.yformatter = ccrs.cartopy.mpl.ticker.LatitudeFormatter()\n",
    "    \n",
    "psi_control.plot.contourf(ax = axs[0], vmin = -180, vmax = 180, levels = 18, cmap = cm.cm.curl, transform = ccrs.PlateCarree(),\n",
    "                          cbar_kwargs = {'label':'$\\\\psi$ (Sv)', 'shrink':.7, 'orientation':'horizontal'})\n",
    "axs[0].set_title('Control')\n",
    "psi_th_w_precip.plot.contourf(ax = axs[1], vmin = -180, vmax = 180, levels = 18, cmap = cm.cm.curl, transform = ccrs.PlateCarree(),\n",
    "                          cbar_kwargs = {'label':'$\\\\psi$ (Sv)', 'shrink':.7, 'orientation':'horizontal'})\n",
    "axs[1].set_title('Thermal+wind+precip')\n",
    "psi_everything.plot.contourf(ax = axs[2], vmin = -180, vmax = 180, levels = 18, cmap = cm.cm.curl, transform = ccrs.PlateCarree(),\n",
    "                          cbar_kwargs = {'label':'$\\\\psi$ (Sv)', 'shrink':.7, 'orientation':'horizontal'})\n",
    "axs[2].set_title('Thermal+wind+precip+meltwater');"
   ]
  },
  {
   "cell_type": "markdown",
   "metadata": {},
   "source": [
    "<h4 style=\"color: red;\">Question 4</h4>\n",
    "\n",
    "Looking at the maps, before you calculate the Drake Passage transport, what do you think happened in the perturbations? Weaker ACC strength or stronger? Explain your reasoning."
   ]
  },
  {
   "cell_type": "markdown",
   "metadata": {},
   "source": [
    "*Answer here*"
   ]
  },
  {
   "cell_type": "markdown",
   "metadata": {},
   "source": [
    "Now let's calculate the actual transport:"
   ]
  },
  {
   "cell_type": "code",
   "execution_count": 80,
   "metadata": {},
   "outputs": [],
   "source": [
    "ψ_south_america = psi_control.sel(xu_ocean = -68, yt_ocean = -55, method = 'nearest')\n",
    "ψ_antarctic_pen = psi_control.sel(xu_ocean = -62, yt_ocean = -64, method = 'nearest')\n",
    "\n",
    "DP_control = ψ_south_america - ψ_antarctic_pen\n",
    "\n",
    "ψ_south_america = psi_th_w_precip.sel(xu_ocean = -68, yt_ocean = -55, method = 'nearest')\n",
    "ψ_antarctic_pen = psi_th_w_precip.sel(xu_ocean = -62, yt_ocean = -64, method = 'nearest')\n",
    "\n",
    "DP_th_w_precip = ψ_south_america - ψ_antarctic_pen\n",
    "\n",
    "ψ_south_america = psi_everything.sel(xu_ocean = -68, yt_ocean = -55, method = 'nearest')\n",
    "ψ_antarctic_pen = psi_everything.sel(xu_ocean = -62, yt_ocean = -64, method = 'nearest')\n",
    "\n",
    "DP_everything = ψ_south_america - ψ_antarctic_pen"
   ]
  },
  {
   "cell_type": "code",
   "execution_count": null,
   "metadata": {},
   "outputs": [],
   "source": [
    "print('DP transport in control: '+str(np.round(DP_control.values, 3)))\n",
    "print('DP transport in thermal+wind+precip: '+str(np.round(DP_th_w_precip.values, 3)))\n",
    "print('DP transport in thermal+wind+precip+meltwater: '+str(np.round(DP_everything.values, 3)))"
   ]
  },
  {
   "cell_type": "code",
   "execution_count": null,
   "metadata": {},
   "outputs": [],
   "source": [
    "17/138"
   ]
  },
  {
   "cell_type": "markdown",
   "metadata": {},
   "source": [
    "The Drake Passage transport has weakened in all of these perturbation experiments."
   ]
  },
  {
   "cell_type": "markdown",
   "metadata": {},
   "source": [
    "<h4 style=\"color: red;\">Question 5</h4>\n",
    "\n",
    "For the Drake Passage transport, what forcing do you think had a larger effect? Meltwater, or thermal+wind+precip?"
   ]
  },
  {
   "cell_type": "markdown",
   "metadata": {},
   "source": [
    "*Answer here*"
   ]
  }
 ],
 "metadata": {
  "kernelspec": {
   "display_name": "ksa206",
   "language": "python",
   "name": "python3"
  },
  "language_info": {
   "codemirror_mode": {
    "name": "ipython",
    "version": 3
   },
   "file_extension": ".py",
   "mimetype": "text/x-python",
   "name": "python",
   "nbconvert_exporter": "python",
   "pygments_lexer": "ipython3",
   "version": "3.12.3"
  }
 },
 "nbformat": 4,
 "nbformat_minor": 2
}
