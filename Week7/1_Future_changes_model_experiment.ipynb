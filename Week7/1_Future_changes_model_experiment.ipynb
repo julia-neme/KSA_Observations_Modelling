{
 "cells": [
  {
   "cell_type": "markdown",
   "id": "313f98f6-8d56-4d1e-a89d-88ca05c2de3e",
   "metadata": {},
   "source": [
    "# KSA206: Polar Observations and Modelling\n",
    "\n",
    "# Week 7 - A model experiment to study future changes\n",
    "\n",
    "<div style=\"float: right; margin-right: 20px; margin-left: 30px; width: 30%; max-width: 500px;\">\n",
    "    <img src=\"images/ssp_emissions.png\" width=\"100%\"/>\n",
    "</div>\n",
    "\n",
    "One of the wonderful, fun things that numerical models can be used for is to run experiments - in analogy to a lab experiment, a numerical experiment allows us to vary the model's conditions and study the impacts of such variation. Particularly, model's are widely used to study projected changes associated to different pathways of CO $_2$ emissions, the most well known of them being model's part of the Coupled Model Intercomparison Project (CMIP) that inform the Intergovernmental Panel on Climate Change (IPCC) reports. CMIP models have a coupled atmosphere, ocean and sea ice, making them quite expensive to run and producing very large outputs - which is why their resolution is not very high and there is a spectrum of processes they don't represent, particularly the introduction of freshwater into the ocean from melting ice sheets. \n",
    "\n",
    "A way to expand on the collective effort of CMIP is to use the atmospheric output from their projections to force a model like ACCESS-OM2 that has a higher resolution at the expense of not having an atmosphere. This week we are going to use one of those experiments that uses the CMIP6 projections for the SSP585 pathway, used in the work of [Dawson et al. 2024](). The Shared Socioeconomic Pathways (SSPs) are different possible pathways of emissions (you can see them on the figure on the right), that range from a future in which decide to actively remove anthropogenic carbon from the atmosphere (the blue lines) to futures in which we continue with \"business-as-usual\" emissions, no reductions (the red lines).\n",
    "\n",
    "We will be using model simulations from the work of [Dawson et al. (2024)](). These simulations use the atmosphere from CMIP6 models at the end of the century, for the SSP585 scenario, to force ACCESS-OM2 at it's highest resolution, 0.1 $^{\\circ}$. The authors also include a simulation with projected changes to freshwater input from the melting Antarctic ice sheet, obtained from [Golledge et al. (2019)](https://www.nature.com/articles/s41586-019-0889-9)."
   ]
  },
  {
   "cell_type": "markdown",
   "id": "0905f377-f241-4c73-abbe-67b575eb3090",
   "metadata": {},
   "source": [
    "## Model simulations\n",
    "\n",
    "In the past week we have worked with output from ACCESS-OM2 at it's lowest resolution (1 $^{\\circ}$), from what we call an Interanually Forced simulation - which basically means we are forcing the model with a complete, interannually varying atmosphere from 1958 to 2018. This means we have the full spectrum of atmospheric variability in the forcing, which makes isolating the effect of a single component, like looking just at the effect of temperature or just at the effect of westerly winds, almost impossible. \n",
    "\n",
    "A simpler way of isolating cause and effect is to use a simulation that is run with just one year of atmospheric forcing, cycling it continuously in what is called a Repeat Year Forcing simulation. The year is chosen for being a vainilla year, with nothing especially out of the ordinary happen. We will call these our **CONTROL** simulation, and it will constitute our reference point. \n",
    "\n",
    "[Dawson et al. (2024)]() branched two simulation experiments from this control:\n",
    "\n",
    "1. Wind + thermal + precipitation: changes to surface winds, temperatures and precipitation where accounted for\n",
    "2. Wind + thermal + precipitation + meltwater: in addition to the above, changes to ice sheet melt and freshwater input into the ocean were included.\n",
    "\n",
    "The process of branching is illustrated in the (very crude) schematic bellow. Note how the control (in black) and the perturbation simulations (orange and purple) are run in parallel, which allows us to compare between simulations and understand what the changes to the forcing drive:\n",
    "\n",
    "<div align=\"center\",style=\"max-width: 500px;\">\n",
    "    <img src=\"images/sim_schematic_1.png\" width=\"60%\" />\n",
    "</div>"
   ]
  },
  {
   "cell_type": "code",
   "execution_count": 18,
   "id": "05a9d5ee-5e94-4e29-b8b2-852e7aac26e2",
   "metadata": {},
   "outputs": [],
   "source": [
    "import cartopy.crs as ccrs\n",
    "import cartopy.feature as cft\n",
    "import cmocean as cm\n",
    "import glob\n",
    "import matplotlib.path as mpath\n",
    "import matplotlib.pyplot as plt\n",
    "import numpy as np\n",
    "import xarray as xr"
   ]
  },
  {
   "cell_type": "code",
   "execution_count": 19,
   "id": "bbafa79b-ddf3-496e-b751-6bac21fab7f6",
   "metadata": {},
   "outputs": [],
   "source": [
    "def stereographic_axis(ax):\n",
    "    \n",
    "    ax.set_extent([-180, 180, -80, -50], crs = ccrs.PlateCarree())\n",
    "    ax.add_feature(cft.NaturalEarthFeature('physical', 'land', '50m',\n",
    "                                            edgecolor='gainsboro',\n",
    "                                            facecolor='gainsboro'))\n",
    "    ax.coastlines(resolution = \"110m\")\n",
    "    # Map the plot boundaries to a circle\n",
    "    theta = np.linspace(0, 2 * np.pi, 100)\n",
    "    center, radius = [0.5, 0.5], 0.5\n",
    "    verts = np.vstack([np.sin(theta), np.cos(theta)]).T\n",
    "    circle = mpath.Path(verts * radius + center)\n",
    "    ax.set_boundary(circle, transform=ax.transAxes)\n",
    "\n",
    "    return ax"
   ]
  },
  {
   "cell_type": "markdown",
   "id": "9ef488da-1307-442f-8c05-69a02e2c1e0c",
   "metadata": {},
   "source": [
    "## Perturbation forcing fields \n",
    "\n",
    "We will start by looking at the forcing fields used in this work. This will help us understand and interpret what we see in the simulations. \n",
    "\n",
    "### Load forcing field data\n",
    "\n",
    "Let's open the atmospheric forcing fields for the control simulation, and the perturbation simulations. \n",
    "\n",
    "To open the files, we can use `xr.open_mfdataset` which opens and merges separate netcdf files. We need to provide the paths of the files:"
   ]
  },
  {
   "cell_type": "code",
   "execution_count": null,
   "id": "63f633db-3577-4da3-8fa8-286422d5bfa8",
   "metadata": {},
   "outputs": [],
   "source": [
    "paths_control = glob.glob('data/forcing_fields/control*.nc') \n",
    "paths_control"
   ]
  },
  {
   "cell_type": "code",
   "execution_count": 4,
   "id": "68080761-c334-4317-84d7-abf50431b482",
   "metadata": {},
   "outputs": [],
   "source": [
    "control = xr.open_mfdataset(paths_control)"
   ]
  },
  {
   "cell_type": "code",
   "execution_count": null,
   "id": "1de574c4-29d3-4a23-a028-f98556f5131f",
   "metadata": {},
   "outputs": [],
   "source": [
    "control"
   ]
  },
  {
   "cell_type": "code",
   "execution_count": null,
   "id": "1bb57423-453e-488d-bbf5-bd48200b5a7d",
   "metadata": {},
   "outputs": [],
   "source": [
    "paths_perturb = glob.glob('data/forcing_fields/perturbation*.nc') \n",
    "paths_perturb"
   ]
  },
  {
   "cell_type": "code",
   "execution_count": 7,
   "id": "a6aeacd9-a557-451a-a722-aead7bf476c2",
   "metadata": {},
   "outputs": [],
   "source": [
    "perturbation = xr.open_mfdataset(paths_perturb)"
   ]
  },
  {
   "cell_type": "code",
   "execution_count": null,
   "id": "0988b6ca-9823-4d14-b30a-00e8ff34bde4",
   "metadata": {},
   "outputs": [],
   "source": [
    "perturbation"
   ]
  },
  {
   "cell_type": "markdown",
   "id": "66813918-eaff-4f8a-a8cb-1c5f9ef4c5bc",
   "metadata": {},
   "source": [
    "<h4 style=\"color: red;\">Question 1</h4>\n",
    "\n",
    "What variables are included in our forcing field files?"
   ]
  },
  {
   "cell_type": "markdown",
   "id": "f0d9973c-1730-4bfb-8ed0-b659cdc7f269",
   "metadata": {},
   "source": [
    "*Answer here*"
   ]
  },
  {
   "cell_type": "markdown",
   "id": "7a712ab6-b384-47df-9eaf-4283344c4d8c",
   "metadata": {},
   "source": [
    "Let's start by looking at zonal and meridional winds. We will plot the CONTROL forcing fields, and the anomalies applied (perturbation forcing fields *minus* control):"
   ]
  },
  {
   "cell_type": "code",
   "execution_count": null,
   "id": "a1fd7d86-aecf-431d-8cf0-16853e91fdb8",
   "metadata": {},
   "outputs": [],
   "source": [
    "fig = plt.figure(figsize = (15, 10))\n",
    "axs = [fig.add_subplot(221, projection = ccrs.SouthPolarStereo()),\n",
    "       fig.add_subplot(222, projection = ccrs.SouthPolarStereo()),\n",
    "       fig.add_subplot(223, projection = ccrs.SouthPolarStereo()),\n",
    "       fig.add_subplot(224, projection = ccrs.SouthPolarStereo())]\n",
    "for ax in axs:\n",
    "    ax = stereographic_axis(ax)\n",
    "\n",
    "control['uas_10m'].mean('time').plot.contourf(ax = axs[0], levels = np.arange(-10, 11, 1),\n",
    "                                             cmap = cm.cm.delta, transform = ccrs.PlateCarree(),\n",
    "                                             cbar_kwargs = {'label':'m/s', 'shrink':0.6})\n",
    "axs[0].set_title('Zonal wind, CONTROL');\n",
    "\n",
    "(perturbation['uas_10m'] - control['uas_10m']).mean('time').plot.contourf(ax = axs[1], levels = np.arange(-2, 2.1, .1),\n",
    "                                                                          cmap = 'RdBu_r', transform = ccrs.PlateCarree(),\n",
    "                                                                          cbar_kwargs = {'label':'m/s', 'shrink':0.6})\n",
    "axs[1].set_title('Zonal wind, PERTURBATION - CONTROL');\n",
    "\n",
    "control['vas_10m'].mean('time').plot.contourf(ax = axs[2], levels = np.arange(-10, 11, 1),\n",
    "                                             cmap = cm.cm.delta, transform = ccrs.PlateCarree(),\n",
    "                                             cbar_kwargs = {'label':'m/s', 'shrink':0.6})\n",
    "axs[2].set_title('Meridional wind, CONTROL');\n",
    "\n",
    "(perturbation['vas_10m'] - control['vas_10m']).mean('time').plot.contourf(ax = axs[3], levels = np.arange(-1, 1.1, .1),\n",
    "                                                                          cmap = 'RdBu_r', transform = ccrs.PlateCarree(),\n",
    "                                                                          cbar_kwargs = {'label':'m/s', 'shrink':0.6})\n",
    "axs[3].set_title('Meridional wind, PERTURBATION - CONTROL');\n",
    "\n",
    "plt.tight_layout();"
   ]
  },
  {
   "cell_type": "markdown",
   "id": "55772ee1-e19c-40b0-9264-b6ab94c7b057",
   "metadata": {},
   "source": [
    "Note how the surface wind fields in the Southern Ocean are dominated by the zonal component - the magnitude of the zonal wind (top left) is way larger than that of the meridional wind (bottom left). \n",
    "\n",
    "In out perturbations, the red colors in the top right panel indicate an overall strengthening of the westerly winds, and a weakening of the near shore easterly winds (the blue, negative areas in top left). This is overall interpreted as a strengthening and shifting south of the westerly wind belt. \n",
    "\n",
    "The meridional perturbations are smaller in magnitude, and overall show an increase in the southward winds over most of the Southern ocean, and a small region of increased off-shore winds on the Ross Sea.\n",
    "\n",
    "Let's look at what the changes in surface temperature look like:"
   ]
  },
  {
   "cell_type": "code",
   "execution_count": null,
   "id": "a3942553-783f-44c3-85c6-d380f292fa32",
   "metadata": {},
   "outputs": [],
   "source": [
    "fig = plt.figure(figsize = (15, 10))\n",
    "axs = [fig.add_subplot(121, projection = ccrs.SouthPolarStereo()),\n",
    "       fig.add_subplot(122, projection = ccrs.SouthPolarStereo())]\n",
    "for ax in axs:\n",
    "    ax = stereographic_axis(ax)\n",
    "\n",
    "control['tas_10m'].mean('time').plot.contourf(ax = axs[0], levels = 20,\n",
    "                                             cmap = cm.cm.thermal, transform = ccrs.PlateCarree(),\n",
    "                                             cbar_kwargs = {'label':'degC', 'shrink':0.4})\n",
    "axs[0].set_title('Surface temperature, CONTROL');\n",
    "\n",
    "(perturbation['tas_10m']-control['tas_10m']).mean('time').plot.contourf(ax = axs[1], levels = np.arange(-6, 6.5, .5),\n",
    "                                                                        cmap = 'RdBu_r', transform = ccrs.PlateCarree(),\n",
    "                                                                        cbar_kwargs = {'label':'degC', 'shrink':0.4})\n",
    "axs[1].set_title('Surface temperature, PERTURBATION - CONTROL');\n",
    "\n",
    "plt.tight_layout();"
   ]
  },
  {
   "cell_type": "markdown",
   "id": "ac11c526-6008-4561-bfdb-74cf0aa6ca10",
   "metadata": {},
   "source": [
    "<h4 style=\"color: red;\">Question 2</h4>\n",
    "\n",
    "There is something wrong in our plots. Correct it."
   ]
  },
  {
   "cell_type": "markdown",
   "id": "066e1914-6ed0-42f0-9713-93b4ce9b06e9",
   "metadata": {},
   "source": [
    "*Answer here*"
   ]
  },
  {
   "cell_type": "code",
   "execution_count": null,
   "id": "a578dd79-ecc0-4cba-b003-edace5e2276d",
   "metadata": {},
   "outputs": [],
   "source": [
    "control['rlds']"
   ]
  },
  {
   "cell_type": "code",
   "execution_count": null,
   "id": "c5aec656-98a8-4370-ad23-b3bd091d24f7",
   "metadata": {},
   "outputs": [],
   "source": [
    "fig = plt.figure(figsize = (15, 10))\n",
    "axs = [fig.add_subplot(121, projection = ccrs.SouthPolarStereo()),\n",
    "       fig.add_subplot(122, projection = ccrs.SouthPolarStereo())]\n",
    "for ax in axs:\n",
    "    ax = stereographic_axis(ax)\n",
    "\n",
    "control['rlds'].mean('time').plot.contourf(ax = axs[0], levels = 20,\n",
    "                                          cmap = 'gnuplot', transform = ccrs.PlateCarree(),\n",
    "                                          cbar_kwargs = {'label':'W/m2', 'shrink':0.4})\n",
    "axs[0].set_title('Longwave radiation, CONTROL');\n",
    "\n",
    "(perturbation['rlds']-control['rlds']).mean('time').plot.contourf(ax = axs[1], levels = 10,\n",
    "                                                                  cmap = 'Reds', transform = ccrs.PlateCarree(),\n",
    "                                                                  cbar_kwargs = {'label':'W/m2', 'shrink':0.4})\n",
    "axs[1].set_title('Longwave radiation, PERTURBATION - CONTROL');\n",
    "\n",
    "plt.tight_layout();"
   ]
  },
  {
   "cell_type": "markdown",
   "id": "1a728a00-ebd9-4002-b1ba-33afe0f842bd",
   "metadata": {},
   "source": [
    "<h4 style=\"color: red;\">Question 3</h4>\n",
    "\n",
    "What do you think the changes to incoming longwave radiation are due to? How are these and the surface temperature changes related?"
   ]
  },
  {
   "cell_type": "markdown",
   "id": "d58b57db-1cc5-4412-8dc9-6185fbf773d1",
   "metadata": {},
   "source": [
    "*Answer here*"
   ]
  },
  {
   "cell_type": "markdown",
   "id": "642ad7af-60a2-45f8-b18d-c4883b5d7984",
   "metadata": {},
   "source": [
    "Finally, let's look at the precipitation changes. We will include liquid precipitation (rain) and solid precipitation (snow)."
   ]
  },
  {
   "cell_type": "code",
   "execution_count": 13,
   "id": "daeaadf2-c713-4a63-890f-98da81328063",
   "metadata": {},
   "outputs": [],
   "source": [
    "precip_control = control['prrn'] + control['prsn']\n",
    "precip_perturbation = perturbation['prrn'] + perturbation['prsn']"
   ]
  },
  {
   "cell_type": "code",
   "execution_count": null,
   "id": "52ec093b-dc17-469d-bed6-b313a1ca3807",
   "metadata": {},
   "outputs": [],
   "source": [
    "fig = plt.figure(figsize = (15, 10))\n",
    "axs = [fig.add_subplot(121, projection = ccrs.SouthPolarStereo()),\n",
    "       fig.add_subplot(122, projection = ccrs.SouthPolarStereo())]\n",
    "for ax in axs:\n",
    "    ax = stereographic_axis(ax)\n",
    "\n",
    "precip_control.mean('time').plot.contourf(ax = axs[0], levels = 20,\n",
    "                                          cmap = cm.cm.rain, transform = ccrs.PlateCarree(),\n",
    "                                          cbar_kwargs = {'label':'', 'shrink':0.4})\n",
    "axs[0].set_title('Precipitation, CONTROL');\n",
    "\n",
    "(precip_perturbation-precip_control).mean('time').plot.contourf(ax = axs[1], levels = 20,\n",
    "                                                                cmap = 'RdBu_r', transform = ccrs.PlateCarree(),\n",
    "                                                                cbar_kwargs = {'label':'kg/m2/s', 'shrink':0.4})\n",
    "axs[1].set_title('Precipitation, PERTURBATION - CONTROL');\n",
    "\n",
    "plt.tight_layout();"
   ]
  },
  {
   "cell_type": "markdown",
   "id": "a40a57d3-2eff-4050-b420-94bddc56dc0e",
   "metadata": {},
   "source": [
    "<h4 style=\"color: red;\">Question 4</h4>\n",
    "\n",
    "Using the plots above, summarise the changes applied to the forcing fields used to run the perturbation experiments. Remember that the changes are representative of future projections for a SSP585 scenario in CMIP6 models."
   ]
  },
  {
   "cell_type": "markdown",
   "id": "b9ff7bbb-2828-4eca-ac38-f0ddd5bc22e9",
   "metadata": {},
   "source": [
    "*Answer here*"
   ]
  },
  {
   "cell_type": "markdown",
   "id": "dea0b5f2-6fc9-4602-9523-65cfa83efa34",
   "metadata": {},
   "source": [
    "<h4 style=\"color: red;\">Question 5</h4>\n",
    "\n",
    "We have looked at the changes in the time mean forcing fields. Explore the seasonality of the changes. For example:\n",
    "\n",
    " - Compare changes in wind strength changes between summer and winter.\n",
    " - Surface temperatures - are they changing more in a given season?\n",
    " - Same with precipitation."
   ]
  },
  {
   "cell_type": "markdown",
   "id": "a33b982f-ed68-4e6b-9fec-7df110a97206",
   "metadata": {},
   "source": [
    "*Answer here*"
   ]
  }
 ],
 "metadata": {
  "kernelspec": {
   "display_name": "ksa206",
   "language": "python",
   "name": "python3"
  },
  "language_info": {
   "codemirror_mode": {
    "name": "ipython",
    "version": 3
   },
   "file_extension": ".py",
   "mimetype": "text/x-python",
   "name": "python",
   "nbconvert_exporter": "python",
   "pygments_lexer": "ipython3",
   "version": "3.12.3"
  }
 },
 "nbformat": 4,
 "nbformat_minor": 5
}
