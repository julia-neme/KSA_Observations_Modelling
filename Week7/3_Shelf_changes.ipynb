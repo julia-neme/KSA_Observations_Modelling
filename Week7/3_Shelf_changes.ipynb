{
 "cells": [
  {
   "cell_type": "markdown",
   "metadata": {},
   "source": [
    "# KSA206: Polar Observations and Modelling\n",
    "\n",
    "# Week 7 - Shelf changes\n",
    "\n",
    "The Antarctic continental shelf is a crucial location to monitor in the context of climate change. Not only is the melt of ice sheets is driven to a large extent by the ocean temperatures, but monitoring what happens with the ocean at the Antarctic margins is a sort of \"thermometer\" for change. \n",
    "\n",
    "We will now take a look at what these experiments show for the shelf. We will look at a couple of different properties at certain locations - including at changes to a very important current: the Antarctic Slope Current."
   ]
  },
  {
   "cell_type": "code",
   "execution_count": 1,
   "metadata": {},
   "outputs": [],
   "source": [
    "import cartopy.crs as ccrs\n",
    "import cartopy.feature as cft\n",
    "import cmocean as cm\n",
    "import glob\n",
    "import matplotlib.path as mpath\n",
    "import matplotlib.pyplot as plt\n",
    "import numpy as np\n",
    "import xarray as xr"
   ]
  },
  {
   "cell_type": "markdown",
   "metadata": {},
   "source": [
    "## Load data\n",
    "\n",
    "Let's first load our experiment data and calculate the changes (which we will call anomalies) as we did in `2_Open_ocean_changes.ipynb`."
   ]
  },
  {
   "cell_type": "code",
   "execution_count": 2,
   "metadata": {},
   "outputs": [],
   "source": [
    "# Get paths\n",
    "path_control = glob.glob('data/control*')\n",
    "path_twpm = glob.glob('data/mw_ssp585*')\n",
    "path_twp = glob.glob('data/ssp585*')"
   ]
  },
  {
   "cell_type": "code",
   "execution_count": 3,
   "metadata": {},
   "outputs": [],
   "source": [
    "# Open data\n",
    "control = xr.open_mfdataset(path_control)\n",
    "twpm = xr.open_mfdataset(path_twpm)\n",
    "twp = xr.open_mfdataset(path_twp)"
   ]
  },
  {
   "cell_type": "code",
   "execution_count": 4,
   "metadata": {},
   "outputs": [],
   "source": [
    "# Calculate anomalies\n",
    "twpm_anomalies = twpm - control\n",
    "twp_anomalies = twp - control"
   ]
  },
  {
   "cell_type": "markdown",
   "metadata": {},
   "source": [
    "## Cross sections\n",
    "\n",
    "Let's look at cross-sections at different locations around the Antarctic margins, beginning with one in the Amundsen Bellinghausen Sea. Remember this is the region where we are observing the most melt and one of the most vulnerable locations in terms of ice sheet melt. Let's choose a single location - 80W - and plot the teemperatures from CONTROL, and anomalies from both perturbation experiments."
   ]
  },
  {
   "cell_type": "code",
   "execution_count": 51,
   "metadata": {},
   "outputs": [],
   "source": [
    "amundsen_control = control.sel(xt_ocean = -80, xu_ocean = -80, method = 'nearest').sel(yt_ocean = slice(-74, -67), yu_ocean = slice(-74, -67))\n",
    "amundsen_twp = twp.sel(xt_ocean = -80, xu_ocean = -80, method = 'nearest').sel(yt_ocean = slice(-74, -67), yu_ocean = slice(-74, -67))\n",
    "amundsen_twpm = twpm.sel(xt_ocean = -80, xu_ocean = -80, method = 'nearest').sel(yt_ocean = slice(-74, -67), yu_ocean = slice(-74, -67))"
   ]
  },
  {
   "cell_type": "markdown",
   "metadata": {},
   "source": [
    "<h4 style=\"color: red;\">Question 1</h4>\n",
    "\n",
    "Why are we selecting with `xt_ocean` and `xu_ocean`?"
   ]
  },
  {
   "cell_type": "markdown",
   "metadata": {},
   "source": [
    "*Answer here*"
   ]
  },
  {
   "cell_type": "code",
   "execution_count": null,
   "metadata": {},
   "outputs": [],
   "source": [
    "fig, axs = plt.subplots(1, 3, figsize = (20, 5))\n",
    "\n",
    "(amundsen_control['temp']-273.15).plot.contourf(ax = axs[0], cmap = cm.cm.thermal, yincrease = False)\n",
    "(amundsen_twp['temp']-273.15).plot.contourf(ax = axs[1], cmap = cm.cm.thermal, yincrease = False)\n",
    "(amundsen_twpm['temp']-273.15).plot.contourf(ax = axs[2], cmap = cm.cm.thermal, yincrease = False)"
   ]
  },
  {
   "cell_type": "markdown",
   "metadata": {},
   "source": [
    "Let's improve the figure a little (and reduce the depth limit to be able to focus on the shelf):"
   ]
  },
  {
   "cell_type": "code",
   "execution_count": null,
   "metadata": {},
   "outputs": [],
   "source": [
    "fig, axs = plt.subplots(1, 3, figsize = (20, 5))\n",
    "\n",
    "(amundsen_control['temp']-273.15).plot.contourf(ax = axs[0], cmap = cm.cm.thermal, yincrease = False, \n",
    "                                                vmin = -3, vmax = 4, levels = 10,\n",
    "                                                cbar_kwargs = {'label':'Temp (degC)'})\n",
    "axs[0].set_title('CONTROL')\n",
    "(amundsen_twp['temp']-273.15).plot.contourf(ax = axs[1], cmap = cm.cm.thermal, yincrease = False, \n",
    "                                            vmin = -3, vmax = 4, levels = 10,\n",
    "                                            cbar_kwargs = {'label':'Temp (degC)'})\n",
    "axs[1].set_title('thermal+wind+precip')\n",
    "(amundsen_twpm['temp']-273.15).plot.contourf(ax = axs[2], cmap = cm.cm.thermal, yincrease = False, \n",
    "                                             vmin = -3, vmax = 4, levels = 10,\n",
    "                                             cbar_kwargs = {'label':'Temp (degC)'})\n",
    "axs[2].set_title('thermal+wind+precip+meltwater')\n",
    "\n",
    "for ax in axs:\n",
    "    ax.set_xlabel('')\n",
    "    ax.set_ylabel('')\n",
    "    ax.set_ylim(1000, None)"
   ]
  },
  {
   "cell_type": "markdown",
   "metadata": {},
   "source": [
    "And now let's plot salinity:"
   ]
  },
  {
   "cell_type": "code",
   "execution_count": null,
   "metadata": {},
   "outputs": [],
   "source": [
    "fig, axs = plt.subplots(1, 3, figsize = (20, 5))\n",
    "\n",
    "(amundsen_control['salt']).plot.contourf(ax = axs[0], cmap = cm.cm.haline, yincrease = False, levels = 18,\n",
    "                                         cbar_kwargs = {'label':'Salt (PSU)'})\n",
    "axs[0].set_title('CONTROL')\n",
    "(amundsen_twp['salt']).plot.contourf(ax = axs[1], cmap = cm.cm.haline, yincrease = False, levels = 18,\n",
    "                                     cbar_kwargs = {'label':'Salt (PSU)'})\n",
    "axs[1].set_title('thermal+wind+precip')\n",
    "(amundsen_twpm['salt']).plot.contourf(ax = axs[2], cmap = cm.cm.haline, yincrease = False, levels = 18,\n",
    "                                     cbar_kwargs = {'label':'Salt (PSU)'})\n",
    "axs[2].set_title('thermal+wind+precip+meltwater')\n",
    "\n",
    "for ax in axs:\n",
    "    ax.set_xlabel('')\n",
    "    ax.set_ylabel('')\n",
    "    ax.set_ylim(1000, None)"
   ]
  },
  {
   "cell_type": "markdown",
   "metadata": {},
   "source": [
    "You can see that this region of the shelf has mostly warmed, with the offshore warm core (Circumpolar Deep Water) migrating south and intruding onto the continental shelf. Moreover, the salinities at the coast have decreased, related to an overall freshening. The freshening is more intense in the experiment with meltwater, where extra freshwater is being added at the coast."
   ]
  },
  {
   "cell_type": "markdown",
   "metadata": {},
   "source": [
    "<h4 style=\"color: red;\">Question 2</h4>\n",
    "\n",
    "Choose other locations around the continental shelf and repeat the cross sections. Discuss you results!"
   ]
  },
  {
   "cell_type": "markdown",
   "metadata": {},
   "source": [
    "*Answer here*"
   ]
  },
  {
   "cell_type": "markdown",
   "metadata": {},
   "source": [
    "## Antarctic Slope Current\n",
    "\n",
    "The Antarctic Slope Current (ASC) is a quasi-circumpolar current that flows around Antarctica in an anti-clockwise direction. We say it is quasi-circumpolar because it is either absent or very weak in West Antarctica. It is a really important dynamical feature of the ocean circulation, because typically when there is a strong, established current, the exchange of water masses from either side becomes inhibited - in other words, the ASC acts as a barrier for open-ocean water masses to come onto the shelf. Remember that open-ocean water masses are usually warmer than the waters on shelf, and so this mediating role controls to a certain extant how much heat gets to the ice shelves. The lack (or weakness) of the ASC in West Antarctica is one of the reasons behind the vulnerability of this area and the increased melt rates observed here. \n",
    "\n",
    "The ASC's properties vary around the Antarctic margins, and it is usually classified into three distinct regimes: a surface intensified, a bottom intensified, and a reverse ASC. These are illustrated in the figure below from [Huneke et al. (2022)](https://journals.ametsoc.org/view/journals/phoc/52/3/JPO-D-21-0143.1.xml):\n",
    "\n",
    "<p align=\"center\">\n",
    "<img src=\"images/asc_regimes.png\" width=\"70%\"/>\n",
    "</p>\n",
    "\n",
    "Each of these regimes is associated with a particular temperature/salinity structure of the Antarctic Slope Front - fresh ASF, dense ASF and warm ASF. You can see the spatial distribution of these three regimes in the following figure from [Thompson et al. (2018)](https://agupubs.onlinelibrary.wiley.com/doi/full/10.1029/2018RG000624):\n",
    "\n",
    "<p align=\"center\">\n",
    "<img src=\"images/asf_regimes.png\" width=\"40%\"/>\n",
    "</p>\n",
    "\n",
    "We will pick three different locations to look at what happened with the ASC in these shelf regimes in the perturbation experiments, by looking at the zonal velocities. *Technically we should be looking at along-slopes velocities*, but because the slope is mostly zonally oriented almost everywhere, zonal velocities suffice."
   ]
  },
  {
   "cell_type": "code",
   "execution_count": 65,
   "metadata": {},
   "outputs": [],
   "source": [
    "# Fresh shelf\n",
    "control_fresh = control['u'].sel(xu_ocean = 90, method = 'nearest').sel(yu_ocean = slice(-68, -65))\n",
    "twp_fresh = twp['u'].sel(xu_ocean = 90, method = 'nearest').sel(yu_ocean = slice(-68, -65))\n",
    "twpm_fresh = twpm['u'].sel(xu_ocean = 90, method = 'nearest').sel(yu_ocean = slice(-68, -65))"
   ]
  },
  {
   "cell_type": "code",
   "execution_count": null,
   "metadata": {},
   "outputs": [],
   "source": [
    "fig, axs = plt.subplots(1, 3, figsize = (20, 5))\n",
    "control_fresh.plot.contourf(ax = axs[0], cmap = cm.cm.curl, yincrease = False, levels = 18,\n",
    "                            cbar_kwargs = {'label':'Zonal velocity (m/s)'})\n",
    "axs[0].set_title('CONTROL')\n",
    "twp_fresh.plot.contourf(ax = axs[1], cmap = cm.cm.curl, yincrease = False, levels = 18,\n",
    "                        cbar_kwargs = {'label':'Zonal velocity (m/s)'})\n",
    "axs[1].set_title('thermal+wind+precip')\n",
    "twpm_fresh.plot.contourf(ax = axs[2], cmap = cm.cm.curl, yincrease = False, levels = 18,\n",
    "                        cbar_kwargs = {'label':'Zonal velocity (m/s)'})\n",
    "axs[2].set_title('thermal+wind+precip+meltwater')\n",
    "\n",
    "for ax in axs:\n",
    "    ax.set_xlabel('')\n",
    "    ax.set_ylabel('')\n",
    "    ax.set_ylim(2000, None)"
   ]
  },
  {
   "cell_type": "markdown",
   "metadata": {},
   "source": [
    "<h4 style=\"color: red;\">Question 3</h4>\n",
    "\n",
    "Has the ASC in this location strengthened or weakened? Justify your answer using the plots."
   ]
  },
  {
   "cell_type": "markdown",
   "metadata": {},
   "source": [
    "*Answer here*"
   ]
  },
  {
   "cell_type": "markdown",
   "metadata": {},
   "source": [
    "<h4 style=\"color: red;\">Question 4</h4>\n",
    "\n",
    "Look at what happens in locations with bottom-intensified or reversed ASC by choosing other appropriate locations and plotting the cross-sections of zonal velocity."
   ]
  },
  {
   "cell_type": "markdown",
   "metadata": {},
   "source": [
    "*Answer here*"
   ]
  }
 ],
 "metadata": {
  "kernelspec": {
   "display_name": "ksa206",
   "language": "python",
   "name": "python3"
  },
  "language_info": {
   "codemirror_mode": {
    "name": "ipython",
    "version": 3
   },
   "file_extension": ".py",
   "mimetype": "text/x-python",
   "name": "python",
   "nbconvert_exporter": "python",
   "pygments_lexer": "ipython3",
   "version": "3.12.3"
  }
 },
 "nbformat": 4,
 "nbformat_minor": 2
}
