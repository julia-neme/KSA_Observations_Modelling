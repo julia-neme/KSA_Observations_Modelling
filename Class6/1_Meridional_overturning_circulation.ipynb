{
 "cells": [
  {
   "cell_type": "markdown",
   "id": "f6b61333-c525-46e1-bc78-7cfa6e46283a",
   "metadata": {},
   "source": [
    "# KSA: Polar Observations and Modelling\n",
    "\n",
    "# Week 6 - Meridional overturning circulation\n",
    "\n"
   ]
  }
 ],
 "metadata": {
  "kernelspec": {
   "display_name": "Python [conda env:analysis3-24.01] *",
   "language": "python",
   "name": "conda-env-analysis3-24.01-py"
  },
  "language_info": {
   "codemirror_mode": {
    "name": "ipython",
    "version": 3
   },
   "file_extension": ".py",
   "mimetype": "text/x-python",
   "name": "python",
   "nbconvert_exporter": "python",
   "pygments_lexer": "ipython3",
   "version": "3.10.13"
  }
 },
 "nbformat": 4,
 "nbformat_minor": 5
}
