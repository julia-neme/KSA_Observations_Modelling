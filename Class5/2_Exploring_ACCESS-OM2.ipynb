{
 "cells": [
  {
   "cell_type": "markdown",
   "id": "3abd4452-8b3d-46dd-ae0a-ce1761827920",
   "metadata": {},
   "source": [
    "# KSA: Polar Observations and Modelling\n",
    "\n",
    "# Week 6 - Introduction to an ocean/sea ice model\n",
    "\n",
    "Now that we have done a little overview of ACCESS-OM2 and some of its data, it's time to do a bit of exploring into this model output. \n",
    "\n",
    "For this, you can find in the `data/` directory, output for the Southern Ocean that includes temperature and salinity fields, sea surface height, and surface currents. All this variables come in monthly averages, from 1980 to 2018. We have also included a bit of information on the ocean's grid and bathymetry in the `grid.nc` file. \n",
    "\n",
    "Use the notebooks and code from the last four classes, as well as [CoPilot](https://copilot.microsoft.com/) to select a region of the Southern Ocean and investigate some aspect of the ocean state/circulation. You are welcome to choose your own path, but you can also choose from any of the suggested \"mini\" research projects."
   ]
  },
  {
   "cell_type": "code",
   "execution_count": 49,
   "id": "273b7b73-4580-41ff-9e7d-625c3a4d76a4",
   "metadata": {},
   "outputs": [],
   "source": [
    "import cartopy.crs as ccrs\n",
    "import cartopy.feature as cft\n",
    "import cmocean as cm\n",
    "import glob\n",
    "import gsw\n",
    "import matplotlib.lines as mlines\n",
    "import matplotlib.path as mpath\n",
    "import matplotlib.pyplot as plt\n",
    "import metpy\n",
    "import numpy as np\n",
    "import xarray as xr\n",
    "import xarrayMannKendall as xrmk"
   ]
  },
  {
   "attachments": {},
   "cell_type": "markdown",
   "id": "67cd4e4f-b1bc-4314-b782-8f4c64e2ca0f",
   "metadata": {},
   "source": [
    "## Comparison of temperature and salinity between West and East Antarctica\n",
    "\n",
    "<div style=\"float: right; margin-right: 20px; margin-left: 30px; width: 20%; max-width: 500px;\">\n",
    "    <img src=\"images/ant_melt.png\" width=\"100%\" />\n",
    "</div>\n",
    "\n",
    "The West Antarctic Ice Sheet (WAIS) has been loosing mass in a way the East Antarctic has not (take a look at the figure from [Smith et al. 2020](https://www.science.org/doi/10.1126/science.aaz5845)). The higher vulnerability of WAIS to melt has been linked to warmer ocean temperatures at the continental shelf related to intrusions of Circumpolar Deep Water from the open ocean.\n",
    "\n",
    "Use the temperature and salinity fields from the ACCESS-OM2 model (the file `data/access_om2_temp_salt_avg_2000-2018.nc` contains this variables averaged over the 2000-2018 period) to compare the temperature and salinity of the continental shelf at West Antarctica vs the one at East Antarctica. The variable `temp` is conservative temperature and comes in units of Kelvin, and the variable `salt` is practical salinity and comes in units of PSU. You could:\n",
    " - Do TS diagrams\n",
    " - Plot maps of temperature/salinity at different depths\n",
    " - Etc\n",
    "\n",
    "In order to do this, you will have to be able to select the continental shelf in a region, which is slightly more nuanced than just selecting a latitude/longitude box. Take inspiration from the second class, where we looked the Antarctic Bottom Water layer selecting those densities larger than 28.27 kg/m$^3$: if the continental shelf is defined as the area shallower than 1000m, you can use the `xarray.where()` function to select the continental shelf. For example:\n",
    "\n",
    "```\n",
    "xr.where(ht<1000, temp, np.nan)\n",
    "```\n",
    "\n",
    "where we are saying that where the depth `ht` is less than a 1000, we want to keep the temperature values, otherwise we want `NaN`s. \n",
    "\n",
    "Before doing the above, you will want to have pre-selected a `temp_WA` variable for the West Antarctic region, and a `temp_EA` for the East Antarctic region. Look at the figure from Smith et al. 2020 to do the selection, and remember that the bigger the area you choose, the longer your calculation might take!"
   ]
  },
  {
   "cell_type": "markdown",
   "id": "6effb473-e616-4878-8d28-f7ab547b6144",
   "metadata": {},
   "source": [
    "## Identifying Southern Ocean fronts from sea level\n",
    "\n",
    "<div style=\"float: right; margin-right: 20px; margin-left: 30px; width: 20%; max-width: 500px;\">\n",
    "    <img src=\"images/acc_fronts_schem.png\" width=\"100%\" />\n",
    "</div>\n",
    "\n",
    "An oceanographic front is a sharp boundary that separates two areas with water masses of different characteristics. Fronts are a really important feature of the ocean circulation: they sustain strong currents, they give rise to instabilities and eddies and they are usually biologically productive regions, rich in nutrients (see the figure on the left from [Chapman et al. (2020)](https://www.nature.com/articles/s41558-020-0705-4). These fronts also exhert an obstacle (a barrier) for tracers to move from one side to the other. \n",
    "\n",
    "Within the Southern Ocean there are several of these fronts. Three of the most important ones are the Subantarctic Front, the Polar Front and the Southern ACC Front. Traditionally, these have been identified from sea surface height data, using a specific value of an SSH contour associated to each front. However, for some applications, like looking at changes in frontal position throughout time, instead of choosing a fixed value, another definition may be used based on the *gradient* of sea level. Essentially identifying a front as a region of *large change in small distances* rather than a fixed value. Remember that, like we saw in `2_SO_circulation_from_geostrophy.ipynb`, regions with large gradients are associated to strong currents!\n",
    "\n",
    "Use the `sea_level` variable from the model, which you will find in `data/access_om2_sea_level_avg_2000-2018.nc` and look at the position of the three fronts using the following contours: -0.51 for the Subantarctic Front (SAF); -0.96 for the Polar Front (PF) and -1.5 for the Southern ACC Front (SB). Use temperature, salinity (in `data/access_om2_temp_salt_avg_2000-2018.nc`) and oxygen (in `data/access_om2_o2_avg_2000-2018.nc` to look at the subsurface beneath those front definitions. \n",
    "\n",
    "You could plot a cross section of temp/salt/oxygen and mark the location of the fronts. Or you could plot a map with contours for the front locations, and either of these variables at a depth of your choice. Feel free to use the `stereographic_axis` function from past classes!"
   ]
  },
  {
   "cell_type": "markdown",
   "id": "66ceb0e3-0ff7-4228-85c7-f8c68a896e95",
   "metadata": {},
   "source": [
    "## Identify three different shelf and Antarctic Slope Current regimes\n",
    "\n",
    "The Antarctic Slope Current (ASC) is a quasi-circumpolar current that flows around Antarctica in an anti-clockwise direction. We say it is quasi-circumpolar because it is either absent or very weak in West Antarctica. It is a really important dynamical feature of the ocean circulation, because typically when there is a strong, established current, the exchange of water masses from either side becomes inhibited - in other words, the ASC acts as a barrier for open-ocean water masses to come onto the shelf. Remember that open-ocean water masses are usually warmer than the waters on shelf, and so this mediating role controls to a certain extant how much heat gets to the ice shelves. The lack (or weakness) of the ASC in West Antarctica is one of the reasons behind the vulnerability of this area and the increased melt rates observed here. \n",
    "\n",
    "The ASC's properties vary around the Antarctic margins, and it is usually classified into three distinct regimes: a surface intensified, a bottom intensified, and a reverse ASC. These are illustrated in the figure below from [Huneke et al. (2022)](https://journals.ametsoc.org/view/journals/phoc/52/3/JPO-D-21-0143.1.xml):\n",
    "\n",
    "![image](images/asc_regimes.png)\n",
    "\n",
    "Each of these regimes is associated with a particular temperature/salinity structure of the Antarctic Slope Front - fresh ASF, dense ASF and warm ASF. You can see the spatial distribution of these three regimes in the following figure from [Thompson et al. (2018)](https://agupubs.onlinelibrary.wiley.com/doi/full/10.1029/2018RG000624):\n",
    "\n",
    "![image](images/asf_regimes.png)\n",
    "\n",
    "Use the velocity, temperature and salinity fields to select and plot three cross-sections that are representative of the three ASC/ASF regimes. These variables are in `data/access-om2_temp_salt_avg_2000-2018.nc` and `data/access-om2_u_v_avg_2000-2018.nc`, averaged for the 2000-2018 period. Calculate and plot potential density too!\n",
    "\n",
    "In order to do this, you will have to use `xarray.sel()` to select the area of interested. You can try with a single location, or averaging over a slice. Think about which dimension you will be making your selection along!"
   ]
  }
 ],
 "metadata": {
  "kernelspec": {
   "display_name": "Python [conda env:analysis3-24.01] *",
   "language": "python",
   "name": "conda-env-analysis3-24.01-py"
  },
  "language_info": {
   "codemirror_mode": {
    "name": "ipython",
    "version": 3
   },
   "file_extension": ".py",
   "mimetype": "text/x-python",
   "name": "python",
   "nbconvert_exporter": "python",
   "pygments_lexer": "ipython3",
   "version": "3.10.13"
  }
 },
 "nbformat": 4,
 "nbformat_minor": 5
}
