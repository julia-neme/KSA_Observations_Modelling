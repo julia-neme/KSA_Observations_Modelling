{
 "cells": [
  {
   "cell_type": "markdown",
   "id": "3abd4452-8b3d-46dd-ae0a-ce1761827920",
   "metadata": {},
   "source": [
    "# KSA: Polar Observations and Modelling\n",
    "\n",
    "# Week 6 - Introduction to an ocean/sea ice model\n",
    "\n",
    "Now that we have done a little overview of ACCESS-OM2 and some of its data, it's time to do a bit of exploring into this model output. \n",
    "\n",
    "For this, you can find in the `data/` directory, output for the Southern Ocean that includes temperature and salinity fields, sea surface height, and surface currents. All this variables come in monthly averages, from 1980 to 2018. We have also included a bit of information on the ocean's grid and bathymetry in the `grid.nc` file. \n",
    "\n",
    "Use the notebooks and code from the last four classes, as well as [CoPilot](https://copilot.microsoft.com/) to select a region of the Southern Ocean and investigate some aspect of the ocean state/circulation. You are welcome to choose your own path, but you can also choose from any of the subsequent \"mini\" research projects."
   ]
  },
  {
   "cell_type": "markdown",
   "id": "38e63c2c-f408-4ef4-bc6d-a9876c8e6cde",
   "metadata": {},
   "source": [
    "## Comparison of temperature and salinity between West and East Antarctica\n",
    "\n",
    "<div style=\"float: right; margin-right: 20px; margin-left: 30px; width: 20%; max-width: 500px;\">\n",
    "    <img src=\"images/ant_melt.png\" width=\"100%\" />\n",
    "</div>\n",
    "\n",
    "The West Antarctic Ice Sheet (WAIS) has been loosing mass in a way the East Antarctic has not (take a look at the figure from [Smith et al. 2020](https://www.science.org/doi/10.1126/science.aaz5845)). The higher vulnerability of WAIS to melt has been linked to warmer ocean temperatures at the continental shelf related to intrusions of Circumpolar Deep Water from the open ocean.\n",
    "\n",
    "Use the temperature and salinity fields from the ACCESS-OM2 model to compare the temperature and salinity of the continental shelf at West Antarctica vs the one at East Antarctica. For this you could:\n",
    " - Do TS diagrams\n",
    " - Plot maps of temperature/salinity at different depths\n",
    " - Etc\n",
    "\n",
    "In order to do this, you will have to be able to select the continental shelf in a region, which is slightly more nuanced than just selecting a latitude/longitude box. Take inspiration from the second class, where we looked the Antarctic Bottom Water layer selecting those densities larger than 28.27 kg/m$^3$: if the continental shelf is defined as the area shallower than 1000m, you can use the `xarray.where()` function to select the continental shelf. For example:"
   ]
  },
  {
   "cell_type": "code",
   "execution_count": null,
   "id": "96933007-e21f-43fb-b3cf-26feb629312d",
   "metadata": {},
   "outputs": [],
   "source": [
    "xr.where(ht<1000, temp, np.nan)"
   ]
  },
  {
   "cell_type": "markdown",
   "id": "7c4c00cc-7695-498c-927f-0af04f5aa972",
   "metadata": {},
   "source": [
    "where we are saying that where the depth `ht` is less than a 1000, we want to keep the temperature values, otherwise we want `NaN`s. \n",
    "\n",
    "Before doing the above, you will want to have pre-selected a `temp_WA` variable for the West Antarctic region, and a `temp_EA` for the East Antarctic region."
   ]
  },
  {
   "cell_type": "markdown",
   "id": "6effb473-e616-4878-8d28-f7ab547b6144",
   "metadata": {},
   "source": [
    "## Identifying Antarctic Circumpolar Current fronts from sea level"
   ]
  },
  {
   "cell_type": "code",
   "execution_count": null,
   "id": "14fa9add-8344-4982-99c0-e1207641cf56",
   "metadata": {},
   "outputs": [],
   "source": []
  }
 ],
 "metadata": {
  "kernelspec": {
   "display_name": "Python [conda env:analysis3-24.01] *",
   "language": "python",
   "name": "conda-env-analysis3-24.01-py"
  },
  "language_info": {
   "codemirror_mode": {
    "name": "ipython",
    "version": 3
   },
   "file_extension": ".py",
   "mimetype": "text/x-python",
   "name": "python",
   "nbconvert_exporter": "python",
   "pygments_lexer": "ipython3",
   "version": "3.10.13"
  }
 },
 "nbformat": 4,
 "nbformat_minor": 5
}
