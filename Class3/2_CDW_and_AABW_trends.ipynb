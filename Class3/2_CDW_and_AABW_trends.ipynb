{
 "cells": [
  {
   "cell_type": "markdown",
   "metadata": {},
   "source": [
    "# KSA: Polar Observations and Modelling\n",
    "\n",
    "## Week 6 - Gridded data\n",
    "\n",
    "We've done an initial exploring of EN4.2.2., doing some basic plots to try to understand changes throughout time in `1_Introduction_to_EN422.ipynb`.\n",
    "\n",
    "Now we will look at changes in a bit more robust way: by computing linear trends. We will use the `xarrayMannKendall` library, which provides a really easy way to compute linear trends and significance in gridded products."
   ]
  },
  {
   "cell_type": "code",
   "execution_count": null,
   "metadata": {},
   "outputs": [],
   "source": [
    "import cartopy.crs as ccrs\n",
    "import cartopy.feature as cft\n",
    "import cmocean as cm\n",
    "import matplotlib.path as mpath\n",
    "import matplotlib.pyplot as plt\n",
    "import numpy as np\n",
    "import xarray as xr\n",
    "import xarrayMannKendall as xrmk"
   ]
  },
  {
   "cell_type": "markdown",
   "metadata": {},
   "source": [
    "# Surface properties trends\n",
    "\n",
    "Let's begin by looking at the trends in surface temperature and salinity:"
   ]
  },
  {
   "cell_type": "code",
   "execution_count": null,
   "metadata": {},
   "outputs": [],
   "source": []
  },
  {
   "cell_type": "code",
   "execution_count": null,
   "metadata": {},
   "outputs": [],
   "source": []
  }
 ],
 "metadata": {
  "kernelspec": {
   "display_name": "miso",
   "language": "python",
   "name": "python3"
  },
  "language_info": {
   "name": "python",
   "version": "3.9.19"
  }
 },
 "nbformat": 4,
 "nbformat_minor": 2
}
