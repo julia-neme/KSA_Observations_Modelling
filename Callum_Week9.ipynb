{
 "cells": [
  {
   "cell_type": "markdown",
   "id": "e2b7e9e3-b543-4b72-b6c8-e190f18b301e",
   "metadata": {},
   "source": [
    "# EMSC3039/PHYS3039: Climate Dynamics\n",
    "## Week 9 Computational Laboratory - Internal Variability\n",
    "\n",
    "In this lab you will use climate model output to investigate the importance of internal variability in determining what we observe.\n",
    "\n",
    "#### Assessment: \n",
    "Once you have worked through the notebook, enter the answer to Question 5 in the Week 9 Lab Wattle Quiz. You do not need to submit the notebook. \n",
    "\n",
    "\n",
    "### Large Ensemble Data\n",
    "\n",
    "Today we will use climate model output from a large ensemble created with the Australian climate model (model name: ACCESS-ESM1.5)\n",
    "\n",
    "This is the thredds link:\n",
    "https://dapds00.nci.org.au/thredds/catalog/fs38/publications/CMIP6/CMIP/CSIRO/ACCESS-ESM1-5/catalog.html\n",
    "\n",
    "Unfortunately the THREDDS catalogue is down for maintenance today so I have remade the lab to use data that I have downloaded - you can grab it off my hard drive or download it here: https://drive.google.com/drive/folders/1Vc1-UksK8nIepFMLJuMYmYcZ3iFBTF4e?usp=sharing and then run the notebook. Note: you will need to change the data path in the scripts below to your own local files.\n",
    "\n",
    "I've commented out the lines to use the thredds server in case you want to use them at a later date.\n",
    "\n"
   ]
  },
  {
   "cell_type": "markdown",
   "id": "589f8827-6ce2-43a1-9150-b365c4704449",
   "metadata": {},
   "source": [
    "### Import the packages we need to load in and analyse the data"
   ]
  },
  {
   "cell_type": "code",
   "execution_count": null,
   "id": "4d77168e-1428-49ca-9cd2-30545069de24",
   "metadata": {},
   "outputs": [],
   "source": [
    "import xarray as xr\n",
    "import numpy as np\n",
    "import matplotlib\n",
    "import matplotlib.pyplot as plt\n",
    "import cartopy.crs as ccrs"
   ]
  },
  {
   "cell_type": "code",
   "execution_count": null,
   "id": "8f398bb2-f23c-486f-b72c-e5629b74be6b",
   "metadata": {},
   "outputs": [],
   "source": [
    "##put the path to your data here:\n",
    "path=''"
   ]
  },
  {
   "cell_type": "markdown",
   "id": "8eeaa3ab-eff0-41fe-ac1f-6f21c861fc8b",
   "metadata": {},
   "source": [
    "### The following code loads in 20 simulations from the model (only 20 so we don't have to copy so much data over). This is the SSP585 future scenario (see link below). \n",
    "\n",
    "### Check out more info on SSPs while you wait for the code here: https://www.carbonbrief.org/explainer-how-shared-socioeconomic-pathways-explore-future-climate-change/ "
   ]
  },
  {
   "cell_type": "code",
   "execution_count": null,
   "id": "eb8b879f-6f8d-4eb4-9452-156410530b18",
   "metadata": {},
   "outputs": [],
   "source": [
    "#set up an array of zeros to put the output data into\n",
    "temp_weighted_mean=np.zeros([20,86])\n",
    "\n",
    "#the loop below looks through 20 simulations and reads them into the array created above\n",
    "#note we have 40 simulations, each 86 years long - but only load in 20\n",
    "for i in range(20):\n",
    "    #url='https://dapds00.nci.org.au/thredds/dodsC/fs38/publications/CMIP6/ScenarioMIP/CSIRO/ACCESS-ESM1-5/ssp585/r'+str(i+1)+'i1p1f1/Amon/tas/gn/latest/tas_Amon_ACCESS-ESM1-5_ssp585_r'+str(i+1)+'i1p1f1_gn_201501-210012.nc'\n",
    "    url=path+'tas_Amon_ACCESS-ESM1-5_ssp585_r'+str(i+1)+'i1p1f1_gn_201501-210012.nc'\n",
    "    ds = xr.open_dataset(url)\n",
    "    #ds=ds.sel(lat=slice(30,30,4),lon=slice(None,None,4)).load() #this line selects 30S to 30N\n",
    "    ds2=ds.groupby('time.year').mean() #this line takes the mean across 12 months to give one value for each year\n",
    "    temp = ds2.tas - 273.15 #convert temperature from kelvin into celsius (we do this as celsius is easier for us to interpret and understand)\n",
    "    weights = np.cos(np.deg2rad(temp.lat)) #our grid cells are not even in size - remember this is because we have a grid on a sphere, because of this we weight by area. Typically this is done using the cosine of latitude. \n",
    "    weights.name = \"weights\"\n",
    "    temp_weighted = temp.weighted(weights)\n",
    "    temp_weighted_mean[i,:] = temp_weighted.mean((\"lon\", \"lat\")) #we take the global mean using the cosine of latitude as weights\n",
    "    temp_weighted.mean((\"lon\", \"lat\")).to_netcdf('ACCESS_mean_SSP585_ens_'+str(i+1)+'.nc') #puts the output into a netcdf file - this means the data is on our computer if we want to use it again\n",
    "    print('ensemble member '+str(i+1)+' completed') #tells us where we are in loading the data "
   ]
  },
  {
   "cell_type": "markdown",
   "id": "7c6e4875-ea5d-4cef-8ff2-fe3f62c89ace",
   "metadata": {},
   "source": [
    "### Now let's compute the 10-year trend in global mean surface temperature for each of the 20 simulations"
   ]
  },
  {
   "cell_type": "code",
   "execution_count": null,
   "id": "8e2ecdd0-3434-415b-b685-0df318b469cf",
   "metadata": {},
   "outputs": [],
   "source": [
    "x=10 #x = the length of time that we want to take the trend over\n",
    "xx=np.arange(x)\n",
    "trend=np.zeros([20]) #set up an empty array to put the results in \n",
    "\n",
    "#loop through the 40 simulations and take the trend\n",
    "for i in range(20):\n",
    "    p= np.polyfit(xx,temp_weighted_mean[i,0:x],1) #we use the np.polyfit function to fit a linear trend\n",
    "    trend[i]=p[0]*100 #multiply by 100 to get trend over 100years\n"
   ]
  },
  {
   "cell_type": "markdown",
   "id": "ea917a79-29c5-43cb-b6eb-69b8b2da8fee",
   "metadata": {},
   "source": [
    "### Let's print out the minimum, mean and maximum trends across the 20 simulations. Remember the only difference between the simulations are the initial conditions. This is the same model with the same external forcing. This means that all differences can be attributed to internal climate variability! The mean trend tells us the influence of climate change, but the other trends are just as likely to be actually observed. This means that observations can only tell us the combined influence of external forcing (climate change) and internal variability. "
   ]
  },
  {
   "cell_type": "code",
   "execution_count": null,
   "id": "82a4de92-910d-44c9-a074-0f0406f208e3",
   "metadata": {
    "scrolled": true
   },
   "outputs": [],
   "source": [
    "print('min trend = ' + str(np.min(trend)))\n",
    "print('mean trend = ' + str(np.mean(trend)))\n",
    "print('max trend = ' + str(np.max(trend)))\n"
   ]
  },
  {
   "cell_type": "markdown",
   "id": "c1cf3f2f-f665-41d5-80b3-0ad72af4c4ef",
   "metadata": {},
   "source": [
    "#### Question 1: How does the influence of internal variability vary over different timescales? Test some different time periods (hint: change x in the code above). "
   ]
  },
  {
   "cell_type": "markdown",
   "id": "36257ef9-3cff-4553-ba72-e841be29fbb3",
   "metadata": {},
   "source": [
    "#### You will have found that the influence of internal varaiblity decreses as the time period gets longer. That means a trend observed over the last 10 years might have a large influence from internal variability, but a trend over 50 years might be more representative of climate change because internal variability is much smaller in this case.  "
   ]
  },
  {
   "cell_type": "markdown",
   "id": "86b85f1d-0db7-4188-8121-bb8b66c17b81",
   "metadata": {},
   "source": [
    "### Now we will load in a different future scenario. This one is SSP126."
   ]
  },
  {
   "cell_type": "code",
   "execution_count": null,
   "id": "460a7408-9ea2-4545-8de3-cdfa605e8e0c",
   "metadata": {},
   "outputs": [],
   "source": [
    "#set up an array of zeros to put the output data into\n",
    "temp_weighted_mean=np.zeros([20,86])\n",
    "\n",
    "#the loop below looks through 20 simulations and reads them into the array created above\n",
    "#note we have 40 simulations, each 86 years long - but only load in 20\n",
    "for i in range(20):\n",
    "    #url='https://dapds00.nci.org.au/thredds/dodsC/fs38/publications/CMIP6/ScenarioMIP/CSIRO/ACCESS-ESM1-5/ssp126/r'+str(i+1)+'i1p1f1/Amon/tas/gn/latest/tas_Amon_ACCESS-ESM1-5_ssp126_r'+str(i+1)+'i1p1f1_gn_201501-210012.nc'\n",
    "    url=path+'tas_Amon_ACCESS-ESM1-5_ssp126_r'+str(i+1)+'i1p1f1_gn_201501-210012.nc'\n",
    "    ds = xr.open_dataset(url)\n",
    "    #ds=ds.sel(lat=slice(30,30,4),lon=slice(None,None,4)).load() #this line selects 30S to 30N\n",
    "    ds2=ds.groupby('time.year').mean() #this line takes the mean across 12 months to give one value for each year\n",
    "    temp = ds2.tas - 273.15 #convert temperature from kelvin into celsius (we do this as celsius is easier for us to interpret and understand)\n",
    "    weights = np.cos(np.deg2rad(temp.lat)) #our grid cells are not even in size - remember this is because we have a grid on a sphere, because of this we weight by area. Typically this is done using the cosine of latitude. \n",
    "    weights.name = \"weights\"\n",
    "    temp_weighted = temp.weighted(weights)\n",
    "    temp_weighted_mean[i,:] = temp_weighted.mean((\"lon\", \"lat\")) #we take the global mean using the cosine of latitude as weights\n",
    "    temp_weighted.mean((\"lon\", \"lat\")).to_netcdf('ACCESS_mean_SSP126_ens_'+str(i+1)+'.nc') #puts the output into a netcdf file - this means the data is on our computer if we want to use it again\n",
    "    print('ensemble member '+str(i+1)+' completed') #tells us where we are in loading the data "
   ]
  },
  {
   "cell_type": "markdown",
   "id": "0d3ce6f2-5dee-403a-aa44-d421f953326a",
   "metadata": {},
   "source": [
    "#### Questions 2-4 investigate how internal variability changes between future scenarios, variables, and spatial scales. This gives an idea of whether the future scenario matters, the variable matters or the spatial scale matters. \n",
    "\n",
    "#### Before you answer these questions think about what you already know about the climate system and make a hypothesis as to what your results will look like. "
   ]
  },
  {
   "cell_type": "markdown",
   "id": "47af1394-8e6b-4485-82f3-bea19fd30313",
   "metadata": {},
   "source": [
    "#### Question 2: How does the influence of internal variability compare to the difference between future scenarios? Does this differ on different timescales? You can use the data we just loaded in to answer this by running the next cell and comparing with the results from SSP585 calculated above. \n"
   ]
  },
  {
   "cell_type": "code",
   "execution_count": null,
   "id": "22dbbbcf-e82c-4c3e-8c01-202944b73916",
   "metadata": {},
   "outputs": [],
   "source": [
    "x=10 #x = the length of time that we want to take the trend over\n",
    "xx=np.arange(x)\n",
    "trend=np.zeros([20]) #set up an empty array to put the results in \n",
    "\n",
    "#loop through the 40 simulations and take the trend\n",
    "for i in range(20):\n",
    "    p= np.polyfit(xx,temp_weighted_mean[i,0:x],1) #we use the np.polyfit function to fit a linear trend\n",
    "    trend[i]=p[0]*100 #multiply by 100 to get trend over 100years\n",
    "\n",
    "\n",
    "print('min trend = ' + str(np.min(trend)))\n",
    "print('mean trend = ' + str(np.mean(trend)))\n",
    "print('max trend = ' + str(np.max(trend)))"
   ]
  },
  {
   "cell_type": "markdown",
   "id": "19527397-7658-46b6-b1c4-c0a0010fb2b7",
   "metadata": {},
   "source": [
    "#### Question 3: How does the influence of internal variability change for different variables? Pick a different variable from the data and redo the calculations. Due to the server being offline I have downloaded precipitation for you to use for this question (these are the pr files)."
   ]
  },
  {
   "cell_type": "markdown",
   "id": "68ac900a-bd01-46ae-91ec-739c5c6c22e9",
   "metadata": {},
   "source": [
    "#### Question 4: How does the influence of internal variability change for different spatial scales? E.g. what if you choose Canberra (or some other location) instead of surface temperature averaged globally or what if you only looked between 30S and 30N? If you can't remember how to find a specific location go back to the first computer lab or look at the code in the next section. There is also a commented line in the script above that selects 30S to 30N if you want to uncomment it and look at this region. "
   ]
  },
  {
   "cell_type": "code",
   "execution_count": null,
   "id": "48946cda-f5ea-461e-b7a7-ec444182d7e3",
   "metadata": {},
   "outputs": [],
   "source": [
    "#lets load a single ensemble member for pr - precipitation or rainfall\n",
    "#url='https://dapds00.nci.org.au/thredds/dodsC/fs38/publications/CMIP6/CMIP/CSIRO/ACCESS-ESM1-5/historical/r10i1p1f1/Amon/pr/gn/latest/pr_Amon_ACCESS-ESM1-5_historical_r10i1p1f1_gn_185001-201412.nc'\n",
    "url=path+'pr_ACCESS-ESM1-5_hist_r10i1p1f1_185001-201412.nc'\n",
    "ds = xr.open_dataset(url)"
   ]
  },
  {
   "cell_type": "markdown",
   "id": "ef7e8053-f8fc-4128-bdb5-410ac4153c22",
   "metadata": {},
   "source": [
    "### Not only trends have internal variability. Let's look at how variable Canberra rainfall is in different months.\n",
    "\n",
    "### First let's think about why we care when Canberra's rainfall is most variable?. First when it is variable these are often months where it is hard to predict the rainfall we will have. Second if the rainfall is most variable when mean rainfall high then we are more likely to get extreme events so plotting the mean and the variability tells us a lot about how likely different events/rainfall amounts in different months are. "
   ]
  },
  {
   "cell_type": "code",
   "execution_count": null,
   "id": "a155c270-dbac-4d45-8ffe-68b97f0421ab",
   "metadata": {},
   "outputs": [],
   "source": [
    "pr_absolute=ds.pr.groupby(\"time.month\").mean()\n",
    "pr_absolute.sel(lon=149.1310, lat=-35.2802, method=\"nearest\").plot()\n"
   ]
  },
  {
   "cell_type": "code",
   "execution_count": null,
   "id": "def5ec08-3355-4bad-ac01-6d2c7a9555e1",
   "metadata": {},
   "outputs": [],
   "source": [
    "pr_variability=ds.pr.groupby(\"time.month\").mean()\n",
    "pr_variability.sel(lon=149.1310, lat=-35.2802, method=\"nearest\").plot()"
   ]
  },
  {
   "cell_type": "markdown",
   "id": "84bc7f5c-ffc4-4935-86a4-ab9a38095ab0",
   "metadata": {},
   "source": [
    "#### Question 5: In which month is rainfall most variable in Canberra? Does this correpond to when the mean rainfall is highest?"
   ]
  },
  {
   "cell_type": "markdown",
   "id": "705d49b2-21cd-4c46-8b80-a0fbf385c8bf",
   "metadata": {},
   "source": [
    "### Now we load and plot the same thing for observations."
   ]
  },
  {
   "cell_type": "code",
   "execution_count": null,
   "id": "8fa4aaac-5aab-492e-a7f0-0777a1ba7544",
   "metadata": {},
   "outputs": [],
   "source": [
    "#url='https://dapds00.nci.org.au/thredds/dodsC/zv2/agcd/v2-0-1/precip/total/r005/01month/agcd_v2-0-1_precip_total_r005_monthly_1900.nc'\n",
    "url=path+'gpcp.mon.mean.197901-202301.nc'\n",
    "ds1 = xr.open_dataset(url)\n",
    "ds1=ds1.sel(lon=149.1310, lat=-35.2802, method=\"nearest\")\n",
    "#url='https://dapds00.nci.org.au/thredds/dodsC/zv2/agcd/v2-0-1/precip/total/r005/01month/agcd_v2-0-1_precip_total_r005_monthly_1901.nc'\n",
    "#ds2 = xr.open_dataset(url)\n",
    "\n",
    "#ds3=xr.concat([ds1,ds2],dim='time')\n",
    "\n",
    "#a=1900\n",
    "#for i in range(122):\n",
    " #   b=a+i\n",
    "  #  url='https://dapds00.nci.org.au/thredds/dodsC/zv2/agcd/v2-0-1/precip/total/r005/01month/agcd_v2-0-1_precip_total_r005_monthly_'+str(b)+'.nc'\n",
    "   # ds2 = xr.open_dataset(url)\n",
    "    #ds2=ds2.sel(lon=149.1310, lat=-35.2802, method=\"nearest\")\n",
    "    #ds1=xr.concat([ds1,ds2],dim='time')\n",
    "    #print('timestep '+str(i+1)+' of 122 is completed') #tells us where we are in loading the data \n",
    "    \n"
   ]
  },
  {
   "cell_type": "code",
   "execution_count": null,
   "id": "cba2e080-fb95-4992-9334-0444070cb3bf",
   "metadata": {},
   "outputs": [],
   "source": [
    "pr_variability_obs=ds1.precip.groupby(\"time.month\").std()\n",
    "pr_variability_obs.plot()"
   ]
  },
  {
   "cell_type": "markdown",
   "id": "32174803-8941-4387-95d0-0f1a8de4e6bf",
   "metadata": {},
   "source": [
    "#### Question 6: Lets think about the results that we found here by asking a series of questions. These questions are the sort of questions we might ask if we want to interpret these results. \n",
    "\n",
    "First: Does the model result agree with the observations? If not can you suggest why? Are the models wrong? Are the observations uncertain?\n",
    "\n",
    "Second: We find that Canberra rainfall is most variable in December/January/February. Can we come up with a hypothesis as to why? Would we expect the same thing to be true in other locations? If you have time and interest make a hypothesis for another location - rerun the code and see if your hypothesis is correct!\n",
    "\n",
    "Third: Do we get the same answer with different ensemble members? Hint: here change the number 10 to another or a few other numbers and add some most ensemble member lines to the plot (note the downloaded data only has members 1-10 for the historical). We want to know how variable our result is across simulations. This tells us how robust our result is - which is important when making a scientific statement.  "
   ]
  },
  {
   "cell_type": "markdown",
   "id": "587b63f8-7cfc-4217-87d1-3f1046da9603",
   "metadata": {},
   "source": [
    "#### Discussion questions (find a partner and have a chat with them):\n",
    "\n",
    "A) ) Think about the units? Where are SI units most useful? Why might we choose to plot in other units? Hint: Think about kelvin vs celsius. Do you have an idea what we might choose for precipitation units too for ease of understanding?\n",
    "\n",
    "B) Today we have spent time using a small amount of data - 1 model, 20 members, 1 2D surface variable and the data takes some time to load. Think about and discuss how scientists deal with up to 40 models, some with 100 ensemble members, with all the 2D and 3D variables you can imagine. What do you think the challenges are here? How to you deal with them? Hint: Ask Jemma or Nicola about their scientific research using this data and see what they do.\n",
    "\n",
    "C) How would you communicate the concept of internal climate variability to your grandma or someone you  met at the pub? What are the challenges in this communication?"
   ]
  },
  {
   "cell_type": "markdown",
   "id": "f69eaa09-8a65-4390-92e0-9c2380153249",
   "metadata": {},
   "source": [
    "#### Further exercises:\n",
    "Work on you research project Major Assignment!"
   ]
  },
  {
   "cell_type": "code",
   "execution_count": null,
   "id": "03d7def8-f1a5-47de-87fb-7f48d229b30b",
   "metadata": {},
   "outputs": [],
   "source": []
  },
  {
   "cell_type": "code",
   "execution_count": null,
   "id": "8cb462c3-eae8-4f4d-aca0-7abab4b49683",
   "metadata": {},
   "outputs": [],
   "source": []
  }
 ],
 "metadata": {
  "kernelspec": {
   "display_name": "Python 3 (ipykernel)",
   "language": "python",
   "name": "python3"
  },
  "language_info": {
   "codemirror_mode": {
    "name": "ipython",
    "version": 3
   },
   "file_extension": ".py",
   "mimetype": "text/x-python",
   "name": "python",
   "nbconvert_exporter": "python",
   "pygments_lexer": "ipython3",
   "version": "3.12.2"
  }
 },
 "nbformat": 4,
 "nbformat_minor": 5
}
