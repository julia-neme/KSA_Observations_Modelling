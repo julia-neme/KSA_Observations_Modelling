{
 "cells": [
  {
   "cell_type": "markdown",
   "metadata": {},
   "source": [
    "# Assessment instructions\n",
    "\n",
    "The objective of this assessment is to prepare a report based on a mini \"research project\" of your choice. You can select any of the projects we suggest below, or if you can pursue an idea of your own if that's what you prefer. \n",
    "\n",
    "The report should consist of 3 to 5 figures of your creation, using the code and analysis techniques you've learnt throughout the tutorials. You should write no more than two pages of text discussing what your figures show in relation to your research project topic. A good figure will have:\n",
    "\n",
    " - Labels and units for the axis and colorbar (if there is one)\n",
    " - Descriptive title\n",
    " - If needed, appropriate colormap selection\n",
    " - Clear showcase of information you discuss in the text\n",
    "\n",
    "For the accompanying text, do a bit of research on the topic to write a brief introduction, and then describe your results illustrated by the figures. Finish the report with a brief conclusion of your findings.\n",
    "\n",
    "You can read the papers suggested in the projects and take inspiration from their figures for your analysis. Remember that you can use CoPilot for coding, or even copy and paste code from the tutorials!\n",
    "\n",
    "The data available for you to use includes:\n",
    " - Model's bathymetry -> `data/access-om2_depth.nc`\n",
    " - 3D oxygen fields, averaged during the period 2000-2018 -> `data/access-om2_o2_avg_2000-2018.nc`\n",
    " - Sea ice concentration seasonal cycle for the period 2000-2018 -> `data/access-om2_sea_ice_cc_clim_2000-2018.nc`\n",
    " - Sea level averaged for the period 2000-2018 -> `data/access-om2_sea_level_avg_2000-2018.nc`\n",
    " - 3D temperature and salinity fields, averaged during the period 2000-2018 -> `data/access-om2_temp_salt_avg_2000-2018.nc`\n",
    " - 3D temperature and salinity fields and mixed layer depth seasonal cycle for the period 2000-2018 -> `data/access-om2_temp_salt_mld_clim_2000-2018.nc`\n",
    " - 3D zonal and meridional velocities, averaged during the period 2000-2018 -> `data/access-om2_u_v_avg_2000-2018.nc`"
   ]
  },
  {
   "cell_type": "markdown",
   "metadata": {},
   "source": [
    "# Research projects"
   ]
  },
  {
   "cell_type": "markdown",
   "metadata": {},
   "source": [
    "## Comparison of temperature and salinity between West and East Antarctica\n",
    "\n",
    "<div style=\"float: right; margin-right: 20px; margin-left: 30px; width: 20%; max-width: 500px;\">\n",
    "    <img src=\"images/ant_melt.png\" width=\"100%\" />\n",
    "</div>\n",
    "\n",
    "### Background\n",
    "\n",
    "The loss of ice from the Antarctic Ice Sheet makes a substantial contribution to sea level rise. At present, the West Antarctic Ice Sheet (WAIS) has been loosing mass in a way the East Antarctic has not (take a look at the figure on the right from [Smith et al. 2020](https://www.science.org/doi/10.1126/science.aaz5845)). This mass loss is in part due to the melting of the ice shelves from below by a warmer ocean. The higher vulnerability of WAIS to melt has been linked to the particular configuration of the continental shelf and the ocean circulation : here, Circumpolar Deep Water is able to intrude onto the continental shelf and access the ice shelf cavities. \n",
    "\n",
    "Suggested reading: [Smith et al. (2020)](https://www.science.org/doi/10.1126/science.aaz5845), [IMBIE team (2018)](https://www.nature.com/articles/s41586-018-0179-y), [Nakayama et al. (2018)](https://www.nature.com/articles/s41467-018-05813-1)\n",
    "\n",
    "\n",
    "### Research objective\n",
    "\n",
    "Use the temperature and salinity fields from the ACCESS-OM2 model to compare the temperature and salinity of the continental shelf at West Antarctica vs the one at East Antarctica. The file `data/access_om2_temp_salt_avg_2000-2018.nc` contains these variables averaged over the 2000-2018 period. Remember that `temp` is conservative temperature and comes in units of Kelvin, and `salt` is practical salinity and comes in units of PSU. Potential ideas for your figures are:\n",
    " - TS diagrams\n",
    " - Maps of temperature/salinity at different depths\n",
    " - Cross-sections\n",
    " - Temperature/salinity profiles\n",
    "\n",
    "\n",
    "### Tips\n",
    "\n",
    "You will have to be able to select the continental shelf in West Antarctica and East Antarctica. Selecting the continental shelf is slightly more nuanced than just selecting a latitude/longitude box. Take inspiration from the second class, where we looked the Antarctic Bottom Water layer selecting those densities larger than 28.27 $kg/m^3$: if the continental shelf is defined as the area shallower than 1000m, you can use the `xarray.where()` function to select the continental shelf. For example:\n",
    "\n",
    "```\n",
    "xr.where(ht<1000, temp, np.nan)\n",
    "```\n",
    "\n",
    "where we are keeping temperature values where the depth `ht` is less than a 1000, otherwise we write `NaN`s. \n",
    "\n",
    "Before doing the above, you will want to have pre-selected a `temp_WA` variable for the West Antarctic region, and a `temp_EA` for the East Antarctic region. Look at the figure from Smith et al. 2020 to do the selection!"
   ]
  },
  {
   "cell_type": "markdown",
   "metadata": {},
   "source": [
    "## Three different shelf and Antarctic Slope Current regimes\n",
    "\n",
    "### Background\n",
    "\n",
    "The Antarctic Slope Current (ASC) is a quasi-circumpolar current that flows around Antarctica in an anti-clockwise direction. We say it is quasi-circumpolar because it is either absent or very weak in West Antarctica. It is a really important dynamical feature of the ocean circulation, because typically when there is a strong, established current, the exchange of water masses from either side becomes inhibited - in other words, the ASC acts as a barrier for open-ocean water masses to come onto the shelf. Remember that open-ocean water masses are usually warmer than the waters on shelf, and so this mediating role controls to a certain extant how much heat gets to the ice shelves. The lack (or weakness) of the ASC in West Antarctica is one of the reasons behind the vulnerability of this area and the increased melt rates observed here. \n",
    "\n",
    "The ASC's properties vary around the Antarctic margins, and it is usually classified into three distinct regimes: a surface intensified, a bottom intensified, and a reverse ASC, each associated to different T/S shelf structures. The different regimes are illustrated in the figure below from [Huneke et al. (2022)](https://journals.ametsoc.org/view/journals/phoc/52/3/JPO-D-21-0143.1.xml):\n",
    "\n",
    "<p align=\"center\">\n",
    "<img src=\"images/asc_regimes.png\" width=\"70%\"/>\n",
    "</p>\n",
    "\n",
    "Suggested reading: [Thompson et al. (2018)](https://agupubs.onlinelibrary.wiley.com/doi/full/10.1029/2018RG000624),[Huneke et al. (2022)](https://journals.ametsoc.org/view/journals/phoc/52/3/JPO-D-21-0143.1.xml).\n",
    "\n",
    "### Research objective\n",
    "\n",
    "Use the velocity, temperature and salinity fields to characterise the three different ASC regimes. These variables are in `data/access-om2_temp_salt_avg_2000-2018.nc` and `data/access-om2_u_v_avg_2000-2018.nc`, averaged for the 2000-2018 period. Use the information in the papers to select the regions where each of the regimes can be found. Potential ideas for your figures are:\n",
    " - Cross sections of temperature, salinity and density (which you can calculate from temperature and salinity)\n",
    " - Cross sections of velocities\n",
    "\n",
    "### Tips\n",
    "\n",
    "Use `xarray.sel()` to select the different *longitudes*. You can try with a single longitude, or averaging over a slice. Look at the tutorials from Week 4 and 5 for a refresher on cross sections."
   ]
  },
  {
   "cell_type": "markdown",
   "metadata": {},
   "source": [
    "## Identifying Southern Ocean fronts from sea level\n",
    "\n",
    "<div style=\"float: right; margin-right: 20px; margin-left: 30px; width: 20%; max-width: 500px;\">\n",
    "    <img src=\"images/acc_fronts_schem.png\" width=\"100%\" />\n",
    "</div>\n",
    "\n",
    "### Background\n",
    "\n",
    "An oceanographic front is a sharp boundary that separates two areas with water masses of different characteristics. Fronts are a really important feature of the ocean circulation: they sustain strong currents, they give rise to instabilities and eddies and they are usually biologically productive regions, rich in nutrients (see the figure on the left from [Chapman et al. (2020)](https://www.nature.com/articles/s41558-020-0705-4). These fronts also exhert an obstacle (a barrier) for tracers to move from one side to the other. \n",
    "\n",
    "Within the Southern Ocean there are several of these fronts. Three of the most important ones are the Subantarctic Front, the Polar Front and the Southern ACC Front. Traditionally, these have been identified from sea surface height data, using a specific value of an SSH contour associated to each front. However, for some applications, like looking at changes in frontal position throughout time, instead of choosing a fixed value, another definition may be used based on the *gradient* of sea level. Essentially identifying a front as a region of *large change in small distances* rather than a fixed value. Remember that, like we saw in `2_SO_circulation_from_geostrophy.ipynb`, regions with large gradients are associated to strong currents!\n",
    "\n",
    "Suggested reading: [Chapman et al. (2020)](https://www.nature.com/articles/s41558-020-0705-4), [Orsi et al (1995)](https://www.sciencedirect.com/science/article/pii/096706379500021W?via%3Dihub), [Sokolov and Rintoul (2007)](https://doi.org/10.1029%2F2006JC004072).\n",
    "\n",
    "### Research objective\n",
    "\n",
    "Use the `sea_level` variable from the model and look at the position of the three fronts using the following contours: -0.51 for the Subantarctic Front (SAF); -0.96 for the Polar Front (PF) and -1.5 for the Southern ACC Front (SB). Use temperature, salinity and oxygen in `data/access_om2_o2_avg_2000-2018.nc` to look at the subsurface beneath those front definitions. You can find the data in  `data/access_om2_sea_level_avg_2000-2018.nc` and `data/access_om2_temp_salt_avg_2000-2018.nc`. Potential ideas for your figures are:\n",
    "- Maps of frontal position as a contour and surface temperature/salinity or oxygen. You can make different maps for different depths.\n",
    "- Cross-section of temp/salt/oxygen to see the vertical structure\n",
    "\n",
    "### Tips\n",
    "\n",
    "If you choose to do maps, use the `stereographic_plot` function we introduced in Week 5. For your cross sections, see if you can overlay on them the location of the fronts. "
   ]
  },
  {
   "cell_type": "markdown",
   "metadata": {},
   "source": [
    "## \"Evaluation\" of ACCESS-OM2 against observations\n",
    "\n",
    "### Background\n",
    "\n",
    "When working with numerical models, it is supremely important to understand how well they perform against different metrics, which is achieved by carrying out a model evaluation. Usually, an evaluation involves comparing the model against observations and quantifying the differences. An evaluation includes, but is not limited to:\n",
    " - Calculating model biases: how different is the model's mean from the observations mean\n",
    " - Comparing variability: do the seasonal cycles show the same variation? Is the interannual variability correlated?\n",
    "\n",
    "### Research objective\n",
    "\n",
    "Choose any of the observational products we used in the course (CTD profiles, EasyOcean, EN422 gridded observations, satellite altimetry). You can also [download another EasyOcean transect](https://zenodo.org/records/13315689), look at the model data available, and carry out a model evaluation. Describe the model's performance according to your evaluation. \n",
    "\n",
    "### Tips\n",
    "\n",
    "[Here](https://gmd.copernicus.org/articles/13/401/2020/) you can read COSIMA's evaluation of ACCESS-OM2. You can take inspiration from here!"
   ]
  },
  {
   "cell_type": "markdown",
   "metadata": {},
   "source": [
    "## Seasonality of the surface layer and open ocean polynyas\n",
    "\n",
    "### Background\n",
    "\n",
    "We have seen in previous classes how the formation of bottom waters (termed Antarctic Bottom Water) occurs in localised regions around the Antarctic margins. The complexity of the processes involved means that it is a process that few numerical models are able to reproduce accurately: most models produce bottom waters by open-ocean convection, large factories of bottom waters off-shelf in the Weddell and Ross Seas. Open-ocean convection is a phenomena that has rarely been observed: in fact, we have only observed it twice, in the event of the [Maud Rise polynya](https://earthobservatory.nasa.gov/images/145069/deciphering-the-maud-rise-polynya) that opened up in the 1970s and in 2016.\n",
    "\n",
    "One of the unique and valuable features of ACCESS-OM2 at its highest, 0.1 $^{\\circ}$ resolution, is that it does not have these polynyas and forms bottom waters on shelf, in the observed locations and in right amounts. The two lower resolutions, 0.25 $^{\\circ}$ and  1 $^{\\circ}$ (the latter is the one we will use here), do have spurious open ocean convection.\n",
    "\n",
    "\n",
    "### Research objective\n",
    "\n",
    "Take a look at the temperature, salinity, mixed layer depth and sea ice concentration seasonal cycle. See if you can identify these open ocean polynyas by looking at the mixed layer depth - remembering that the convection in these polynyas will appear as an abnormally large mixed layer depth. How does the sesasonal cycle in areas of with open ocean convection, and areas with no open ocean convection, differ?\n",
    "\n",
    "You can try plotting mixed layer depth for each month to identify areas with convection. Once you've identified them, calculate temperature, salinity and sea ice concentration averages. How are these related? Since you have 3D temperature and salinity fields, you can either try doing a Hovmoller plot (like in `1.Introduction_to_EN422.ipynb`, or just pick a depth of your choice and plot a time series. \n",
    "\n",
    "The variables you will need are in `data/access-om2_temp_salt_mld_clim_2000-2018.nc` (where you have `temp`, `salt` and `mld` or mixed layer depth) and `data/access-om2_sea_ice_cc_clim_2000-2018.nc` (where you have `aice_m` or sea ice concentration)."
   ]
  }
 ],
 "metadata": {
  "language_info": {
   "name": "python"
  }
 },
 "nbformat": 4,
 "nbformat_minor": 2
}
